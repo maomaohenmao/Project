{
 "cells": [
  {
   "cell_type": "code",
   "execution_count": 1,
   "metadata": {},
   "outputs": [],
   "source": [
    "import pandas as pd\n",
    "link='https://raw.githubusercontent.com/maomaohenmao/data/master/small_donations_data.csv'\n",
    "donor = pd.read_csv(link)"
   ]
  },
  {
   "cell_type": "code",
   "execution_count": 2,
   "metadata": {
    "scrolled": true
   },
   "outputs": [
    {
     "data": {
      "text/html": [
       "<div>\n",
       "<style scoped>\n",
       "    .dataframe tbody tr th:only-of-type {\n",
       "        vertical-align: middle;\n",
       "    }\n",
       "\n",
       "    .dataframe tbody tr th {\n",
       "        vertical-align: top;\n",
       "    }\n",
       "\n",
       "    .dataframe thead th {\n",
       "        text-align: right;\n",
       "    }\n",
       "</style>\n",
       "<table border=\"1\" class=\"dataframe\">\n",
       "  <thead>\n",
       "    <tr style=\"text-align: right;\">\n",
       "      <th></th>\n",
       "      <th>id</th>\n",
       "      <th>report_number</th>\n",
       "      <th>origin</th>\n",
       "      <th>filer_id</th>\n",
       "      <th>type</th>\n",
       "      <th>filer_name</th>\n",
       "      <th>first_name</th>\n",
       "      <th>middle_initial</th>\n",
       "      <th>last_name</th>\n",
       "      <th>office</th>\n",
       "      <th>...</th>\n",
       "      <th>contributor_address</th>\n",
       "      <th>contributor_city</th>\n",
       "      <th>contributor_state</th>\n",
       "      <th>contributor_zip</th>\n",
       "      <th>contributor_occupation</th>\n",
       "      <th>contributor_employer_name</th>\n",
       "      <th>contributor_employer_city</th>\n",
       "      <th>contributor_employer_state</th>\n",
       "      <th>url</th>\n",
       "      <th>contributor_location</th>\n",
       "    </tr>\n",
       "  </thead>\n",
       "  <tbody>\n",
       "    <tr>\n",
       "      <th>0</th>\n",
       "      <td>4924154.rcpt</td>\n",
       "      <td>100670216</td>\n",
       "      <td>C3</td>\n",
       "      <td>MACED  592</td>\n",
       "      <td>Candidate</td>\n",
       "      <td>MACEWEN DREW C</td>\n",
       "      <td>DREW</td>\n",
       "      <td>C</td>\n",
       "      <td>MACEWEN</td>\n",
       "      <td>STATE REPRESENTATIVE</td>\n",
       "      <td>...</td>\n",
       "      <td>410 E PICKERING RD.</td>\n",
       "      <td>SHELTON</td>\n",
       "      <td>WA</td>\n",
       "      <td>98584</td>\n",
       "      <td>NaN</td>\n",
       "      <td>NaN</td>\n",
       "      <td>NaN</td>\n",
       "      <td>NaN</td>\n",
       "      <td>View report (http://web.pdc.wa.gov/rptimg/defa...</td>\n",
       "      <td>(47.27572, -122.96448)</td>\n",
       "    </tr>\n",
       "    <tr>\n",
       "      <th>1</th>\n",
       "      <td>5265339.rcpt</td>\n",
       "      <td>100722381</td>\n",
       "      <td>C3</td>\n",
       "      <td>APPLS  370</td>\n",
       "      <td>Candidate</td>\n",
       "      <td>APPLETON SHERRY V</td>\n",
       "      <td>SHERRY</td>\n",
       "      <td>V</td>\n",
       "      <td>APPLETON</td>\n",
       "      <td>STATE REPRESENTATIVE</td>\n",
       "      <td>...</td>\n",
       "      <td>1155 N STATE ST., SUITE 316</td>\n",
       "      <td>BELLINGHAM</td>\n",
       "      <td>WA</td>\n",
       "      <td>98225</td>\n",
       "      <td>NaN</td>\n",
       "      <td>NaN</td>\n",
       "      <td>NaN</td>\n",
       "      <td>NaN</td>\n",
       "      <td>View report (http://web.pdc.wa.gov/rptimg/defa...</td>\n",
       "      <td>(48.74694, -122.47985)</td>\n",
       "    </tr>\n",
       "    <tr>\n",
       "      <th>2</th>\n",
       "      <td>4476891.rcpt</td>\n",
       "      <td>100596549</td>\n",
       "      <td>C3</td>\n",
       "      <td>JUSTFA 507</td>\n",
       "      <td>Political Committee</td>\n",
       "      <td>WA ST ASSN FOR JUSTICE JUSTICE FOR ALL</td>\n",
       "      <td>NaN</td>\n",
       "      <td>NaN</td>\n",
       "      <td>WA ST ASSN FOR JUSTICE JUSTICE FOR ALL</td>\n",
       "      <td>NaN</td>\n",
       "      <td>...</td>\n",
       "      <td>1030 N CENTER PKWY #208</td>\n",
       "      <td>KENNEWICK</td>\n",
       "      <td>WA</td>\n",
       "      <td>99336</td>\n",
       "      <td>ATTORNEY</td>\n",
       "      <td>GIERTH-EDDY LAW OFFICES, PLLC</td>\n",
       "      <td>KENNEWICK</td>\n",
       "      <td>WA</td>\n",
       "      <td>View report (http://web.pdc.wa.gov/rptimg/defa...</td>\n",
       "      <td>(46.2216, -119.23016)</td>\n",
       "    </tr>\n",
       "    <tr>\n",
       "      <th>3</th>\n",
       "      <td>4567569.rcpt</td>\n",
       "      <td>100612601</td>\n",
       "      <td>C3</td>\n",
       "      <td>WASHCV 145</td>\n",
       "      <td>Political Committee</td>\n",
       "      <td>WA CONSERVATION VOTERS ACTION FUND</td>\n",
       "      <td>NaN</td>\n",
       "      <td>NaN</td>\n",
       "      <td>WA CONSERVATION VOTERS ACTION FUND</td>\n",
       "      <td>NaN</td>\n",
       "      <td>...</td>\n",
       "      <td>2607 WESTERN AVE #601</td>\n",
       "      <td>SEATTLE</td>\n",
       "      <td>WA</td>\n",
       "      <td>98121</td>\n",
       "      <td>NaN</td>\n",
       "      <td>NaN</td>\n",
       "      <td>NaN</td>\n",
       "      <td>NaN</td>\n",
       "      <td>View report (http://web.pdc.wa.gov/rptimg/defa...</td>\n",
       "      <td>(47.61462, -122.35099)</td>\n",
       "    </tr>\n",
       "    <tr>\n",
       "      <th>4</th>\n",
       "      <td>2997493.rcpt</td>\n",
       "      <td>100380393</td>\n",
       "      <td>C4</td>\n",
       "      <td>BUNKR2 391</td>\n",
       "      <td>Candidate</td>\n",
       "      <td>BUNK RAYMOND R III</td>\n",
       "      <td>RAYMOND</td>\n",
       "      <td>R</td>\n",
       "      <td>BUNK</td>\n",
       "      <td>STATE SENATOR</td>\n",
       "      <td>...</td>\n",
       "      <td>20825 STATE ROUTE 410 EAST #416</td>\n",
       "      <td>BONNEY LAKE</td>\n",
       "      <td>WA</td>\n",
       "      <td>98391</td>\n",
       "      <td>LAW ENFORCEMENT OFFICER</td>\n",
       "      <td>FEDERAL WAY POLICE DEPARTMENT</td>\n",
       "      <td>FEDERAL WAY</td>\n",
       "      <td>WA</td>\n",
       "      <td>View report (http://web.pdc.wa.gov/rptimg/defa...</td>\n",
       "      <td>(47.17704, -122.1865)</td>\n",
       "    </tr>\n",
       "  </tbody>\n",
       "</table>\n",
       "<p>5 rows × 37 columns</p>\n",
       "</div>"
      ],
      "text/plain": [
       "             id  report_number origin    filer_id                 type  \\\n",
       "0  4924154.rcpt      100670216     C3  MACED  592            Candidate   \n",
       "1  5265339.rcpt      100722381     C3  APPLS  370            Candidate   \n",
       "2  4476891.rcpt      100596549     C3  JUSTFA 507  Political Committee   \n",
       "3  4567569.rcpt      100612601     C3  WASHCV 145  Political Committee   \n",
       "4  2997493.rcpt      100380393     C4  BUNKR2 391            Candidate   \n",
       "\n",
       "                               filer_name first_name middle_initial  \\\n",
       "0                          MACEWEN DREW C       DREW              C   \n",
       "1                       APPLETON SHERRY V     SHERRY              V   \n",
       "2  WA ST ASSN FOR JUSTICE JUSTICE FOR ALL        NaN            NaN   \n",
       "3      WA CONSERVATION VOTERS ACTION FUND        NaN            NaN   \n",
       "4                      BUNK RAYMOND R III    RAYMOND              R   \n",
       "\n",
       "                                last_name                office  \\\n",
       "0                                 MACEWEN  STATE REPRESENTATIVE   \n",
       "1                                APPLETON  STATE REPRESENTATIVE   \n",
       "2  WA ST ASSN FOR JUSTICE JUSTICE FOR ALL                   NaN   \n",
       "3      WA CONSERVATION VOTERS ACTION FUND                   NaN   \n",
       "4                                    BUNK         STATE SENATOR   \n",
       "\n",
       "            ...                        contributor_address contributor_city  \\\n",
       "0           ...                        410 E PICKERING RD.          SHELTON   \n",
       "1           ...                1155 N STATE ST., SUITE 316       BELLINGHAM   \n",
       "2           ...                    1030 N CENTER PKWY #208        KENNEWICK   \n",
       "3           ...                      2607 WESTERN AVE #601          SEATTLE   \n",
       "4           ...            20825 STATE ROUTE 410 EAST #416      BONNEY LAKE   \n",
       "\n",
       "  contributor_state  contributor_zip   contributor_occupation  \\\n",
       "0                WA            98584                      NaN   \n",
       "1                WA            98225                      NaN   \n",
       "2                WA            99336                 ATTORNEY   \n",
       "3                WA            98121                      NaN   \n",
       "4                WA            98391  LAW ENFORCEMENT OFFICER   \n",
       "\n",
       "       contributor_employer_name contributor_employer_city  \\\n",
       "0                            NaN                       NaN   \n",
       "1                            NaN                       NaN   \n",
       "2  GIERTH-EDDY LAW OFFICES, PLLC                 KENNEWICK   \n",
       "3                            NaN                       NaN   \n",
       "4  FEDERAL WAY POLICE DEPARTMENT               FEDERAL WAY   \n",
       "\n",
       "  contributor_employer_state  \\\n",
       "0                        NaN   \n",
       "1                        NaN   \n",
       "2                         WA   \n",
       "3                        NaN   \n",
       "4                         WA   \n",
       "\n",
       "                                                 url    contributor_location  \n",
       "0  View report (http://web.pdc.wa.gov/rptimg/defa...  (47.27572, -122.96448)  \n",
       "1  View report (http://web.pdc.wa.gov/rptimg/defa...  (48.74694, -122.47985)  \n",
       "2  View report (http://web.pdc.wa.gov/rptimg/defa...   (46.2216, -119.23016)  \n",
       "3  View report (http://web.pdc.wa.gov/rptimg/defa...  (47.61462, -122.35099)  \n",
       "4  View report (http://web.pdc.wa.gov/rptimg/defa...   (47.17704, -122.1865)  \n",
       "\n",
       "[5 rows x 37 columns]"
      ]
     },
     "execution_count": 2,
     "metadata": {},
     "output_type": "execute_result"
    }
   ],
   "source": [
    "donor.head()"
   ]
  },
  {
   "cell_type": "code",
   "execution_count": 3,
   "metadata": {
    "scrolled": true
   },
   "outputs": [
    {
     "data": {
      "text/plain": [
       "id                             object\n",
       "report_number                   int64\n",
       "origin                         object\n",
       "filer_id                       object\n",
       "type                           object\n",
       "filer_name                     object\n",
       "first_name                     object\n",
       "middle_initial                 object\n",
       "last_name                      object\n",
       "office                         object\n",
       "legislative_district          float64\n",
       "position                       object\n",
       "party                          object\n",
       "ballot_number                 float64\n",
       "for_or_against                 object\n",
       "jurisdiction                   object\n",
       "jurisdiction_county            object\n",
       "jurisdiction_type              object\n",
       "election_year                   int64\n",
       "amount                        float64\n",
       "cash_or_in_kind                object\n",
       "receipt_date                   object\n",
       "description                    object\n",
       "memo                           object\n",
       "primary_general                object\n",
       "code                           object\n",
       "contributor_name               object\n",
       "contributor_address            object\n",
       "contributor_city               object\n",
       "contributor_state              object\n",
       "contributor_zip                 int64\n",
       "contributor_occupation         object\n",
       "contributor_employer_name      object\n",
       "contributor_employer_city      object\n",
       "contributor_employer_state     object\n",
       "url                            object\n",
       "contributor_location           object\n",
       "dtype: object"
      ]
     },
     "execution_count": 3,
     "metadata": {},
     "output_type": "execute_result"
    }
   ],
   "source": [
    "donor.dtypes"
   ]
  },
  {
   "cell_type": "code",
   "execution_count": 4,
   "metadata": {},
   "outputs": [],
   "source": [
    "donor['contributor_city']= donor['contributor_city'].astype('category')"
   ]
  },
  {
   "cell_type": "code",
   "execution_count": 16,
   "metadata": {},
   "outputs": [],
   "source": [
    "donor['party']= donor['party'].astype('category')"
   ]
  },
  {
   "cell_type": "code",
   "execution_count": 5,
   "metadata": {},
   "outputs": [],
   "source": [
    "donor['primary_general']=donor['primary_general'].astype('category')"
   ]
  },
  {
   "cell_type": "code",
   "execution_count": 6,
   "metadata": {},
   "outputs": [],
   "source": [
    "donor['type']= donor['type'].astype('category')"
   ]
  },
  {
   "cell_type": "code",
   "execution_count": 17,
   "metadata": {},
   "outputs": [],
   "source": [
    "donorsmall= donor[['contributor_state','contributor_zip','amount','contributor_city','party','type','primary_general']]"
   ]
  },
  {
   "cell_type": "code",
   "execution_count": 18,
   "metadata": {},
   "outputs": [
    {
     "data": {
      "text/html": [
       "<div>\n",
       "<style scoped>\n",
       "    .dataframe tbody tr th:only-of-type {\n",
       "        vertical-align: middle;\n",
       "    }\n",
       "\n",
       "    .dataframe tbody tr th {\n",
       "        vertical-align: top;\n",
       "    }\n",
       "\n",
       "    .dataframe thead th {\n",
       "        text-align: right;\n",
       "    }\n",
       "</style>\n",
       "<table border=\"1\" class=\"dataframe\">\n",
       "  <thead>\n",
       "    <tr style=\"text-align: right;\">\n",
       "      <th></th>\n",
       "      <th>contributor_state</th>\n",
       "      <th>contributor_zip</th>\n",
       "      <th>amount</th>\n",
       "      <th>contributor_city</th>\n",
       "      <th>party</th>\n",
       "      <th>type</th>\n",
       "      <th>primary_general</th>\n",
       "    </tr>\n",
       "  </thead>\n",
       "  <tbody>\n",
       "    <tr>\n",
       "      <th>0</th>\n",
       "      <td>WA</td>\n",
       "      <td>98584</td>\n",
       "      <td>20.00</td>\n",
       "      <td>SHELTON</td>\n",
       "      <td>REPUBLICAN</td>\n",
       "      <td>Candidate</td>\n",
       "      <td>Primary</td>\n",
       "    </tr>\n",
       "    <tr>\n",
       "      <th>1</th>\n",
       "      <td>WA</td>\n",
       "      <td>98225</td>\n",
       "      <td>1000.00</td>\n",
       "      <td>BELLINGHAM</td>\n",
       "      <td>DEMOCRAT</td>\n",
       "      <td>Candidate</td>\n",
       "      <td>General</td>\n",
       "    </tr>\n",
       "    <tr>\n",
       "      <th>2</th>\n",
       "      <td>WA</td>\n",
       "      <td>99336</td>\n",
       "      <td>30.00</td>\n",
       "      <td>KENNEWICK</td>\n",
       "      <td>NaN</td>\n",
       "      <td>Political Committee</td>\n",
       "      <td>Full election cycle</td>\n",
       "    </tr>\n",
       "    <tr>\n",
       "      <th>3</th>\n",
       "      <td>WA</td>\n",
       "      <td>98121</td>\n",
       "      <td>50.00</td>\n",
       "      <td>SEATTLE</td>\n",
       "      <td>NaN</td>\n",
       "      <td>Political Committee</td>\n",
       "      <td>Full election cycle</td>\n",
       "    </tr>\n",
       "    <tr>\n",
       "      <th>4</th>\n",
       "      <td>WA</td>\n",
       "      <td>98391</td>\n",
       "      <td>164.17</td>\n",
       "      <td>BONNEY LAKE</td>\n",
       "      <td>DEMOCRAT</td>\n",
       "      <td>Candidate</td>\n",
       "      <td>Primary</td>\n",
       "    </tr>\n",
       "  </tbody>\n",
       "</table>\n",
       "</div>"
      ],
      "text/plain": [
       "  contributor_state  contributor_zip   amount contributor_city       party  \\\n",
       "0                WA            98584    20.00          SHELTON  REPUBLICAN   \n",
       "1                WA            98225  1000.00       BELLINGHAM    DEMOCRAT   \n",
       "2                WA            99336    30.00        KENNEWICK         NaN   \n",
       "3                WA            98121    50.00          SEATTLE         NaN   \n",
       "4                WA            98391   164.17      BONNEY LAKE    DEMOCRAT   \n",
       "\n",
       "                  type      primary_general  \n",
       "0            Candidate              Primary  \n",
       "1            Candidate              General  \n",
       "2  Political Committee  Full election cycle  \n",
       "3  Political Committee  Full election cycle  \n",
       "4            Candidate              Primary  "
      ]
     },
     "execution_count": 18,
     "metadata": {},
     "output_type": "execute_result"
    }
   ],
   "source": [
    "donorsmall.head()"
   ]
  },
  {
   "cell_type": "code",
   "execution_count": 19,
   "metadata": {},
   "outputs": [
    {
     "data": {
      "text/plain": [
       "count      9491.000000\n",
       "mean        255.749095\n",
       "std        2957.761253\n",
       "min           0.000000\n",
       "25%          10.000000\n",
       "50%          35.000000\n",
       "75%         100.000000\n",
       "max      122649.590000\n",
       "Name: amount, dtype: float64"
      ]
     },
     "execution_count": 19,
     "metadata": {},
     "output_type": "execute_result"
    }
   ],
   "source": [
    "donorsmall['amount'].describe()"
   ]
  },
  {
   "cell_type": "code",
   "execution_count": 20,
   "metadata": {},
   "outputs": [
    {
     "data": {
      "text/plain": [
       "28.830049197495612"
      ]
     },
     "execution_count": 20,
     "metadata": {},
     "output_type": "execute_result"
    }
   ],
   "source": [
    "donorsmall['amount'].skew()"
   ]
  },
  {
   "cell_type": "code",
   "execution_count": 21,
   "metadata": {},
   "outputs": [
    {
     "data": {
      "text/plain": [
       "937.07852125065983"
      ]
     },
     "execution_count": 21,
     "metadata": {},
     "output_type": "execute_result"
    }
   ],
   "source": [
    "donorsmall['amount'].kurt()"
   ]
  },
  {
   "cell_type": "code",
   "execution_count": 22,
   "metadata": {},
   "outputs": [
    {
     "data": {
      "text/plain": [
       "contributor_state      object\n",
       "contributor_zip         int64\n",
       "amount                float64\n",
       "contributor_city     category\n",
       "party                category\n",
       "type                 category\n",
       "primary_general      category\n",
       "dtype: object"
      ]
     },
     "execution_count": 22,
     "metadata": {},
     "output_type": "execute_result"
    }
   ],
   "source": [
    "donorsmall.dtypes"
   ]
  },
  {
   "cell_type": "code",
   "execution_count": 24,
   "metadata": {
    "scrolled": false
   },
   "outputs": [
    {
     "data": {
      "image/png": "[encoded data removed]",
      "text/plain": [
       "<matplotlib.figure.Figure at 0x1da3a7686d8>"
      ]
     },
     "metadata": {},
     "output_type": "display_data"
    }
   ],
   "source": [
    "import matplotlib.pyplot as plt\n",
    "import seaborn as sns\n",
    "from scipy.stats import norm\n",
    "\n",
    "mnVar=donorsmall['amount'].mean()\n",
    "mdVar=donorsmall['amount'].median()\n",
    "plt.figure(figsize=(10,10))\n",
    "sns.distplot(donorsmall['amount'].dropna(),kde=False,fit=norm)\n",
    "plt.title('How is the donation amount shaped?')\n",
    "plt.axvline(mnVar, color='b', linestyle='dashed', linewidth=2,label='mean')\n",
    "plt.axvline(mdVar, color='r', linestyle='dashed', linewidth=2,label='median')\n",
    "plt.legend()\n",
    "plt.show()"
   ]
  },
  {
   "cell_type": "code",
   "execution_count": 25,
   "metadata": {},
   "outputs": [
    {
     "data": {
      "text/plain": [
       "CategoricalDtype(categories=['ABERDEEN', 'ACME', 'ADDY', 'AIRWAY HEIGHTS', 'ALBUQUERQUE',\n",
       "                  'ALEXANDRIA', 'ALGONA', 'ALLYN', 'ALMIRA', 'AMBLER',\n",
       "                  ...\n",
       "                  'WOODINVILLE', 'WOODLAND', 'WOODSIDE', 'WOODWAY', 'YACOLT',\n",
       "                  'YAKIMA', 'YARDLEY', 'YARROW POINT', 'YELM', 'ZILLAH'],\n",
       "                 ordered=False)"
      ]
     },
     "execution_count": 25,
     "metadata": {},
     "output_type": "execute_result"
    }
   ],
   "source": [
    "donorsmall['contributor_city'].dtypes"
   ]
  },
  {
   "cell_type": "code",
   "execution_count": 26,
   "metadata": {},
   "outputs": [
    {
     "data": {
      "text/plain": [
       "count        9491\n",
       "unique        718\n",
       "top       SEATTLE\n",
       "freq         1790\n",
       "Name: contributor_city, dtype: object"
      ]
     },
     "execution_count": 26,
     "metadata": {},
     "output_type": "execute_result"
    }
   ],
   "source": [
    "donorsmall['contributor_city'].describe()"
   ]
  },
  {
   "cell_type": "code",
   "execution_count": 27,
   "metadata": {},
   "outputs": [
    {
     "data": {
      "text/plain": [
       "Full election cycle    6248\n",
       "Primary                1985\n",
       "General                1258\n",
       "Name: primary_general, dtype: int64"
      ]
     },
     "execution_count": 27,
     "metadata": {},
     "output_type": "execute_result"
    }
   ],
   "source": [
    "donorsmall['primary_general'].value_counts()"
   ]
  },
  {
   "cell_type": "code",
   "execution_count": 28,
   "metadata": {},
   "outputs": [
    {
     "data": {
      "image/png": "[encoded data removed]",
      "text/plain": [
       "<matplotlib.figure.Figure at 0x1da3bb057f0>"
      ]
     },
     "metadata": {},
     "output_type": "display_data"
    }
   ],
   "source": [
    "%matplotlib inline\n",
    "newerPalette=['grey']*3 + ['orange']*3 + ['turquoise']*3 + ['lightblue']*3\n",
    "donorsmall['primary_general'].value_counts(sort=False).plot.bar(color=newerPalette, title=\"Donation Function\")\n",
    "plt.ylabel('COUNT')\n",
    "plt.xlabel('CATEGORIES')\n",
    "plt.show()"
   ]
  },
  {
   "cell_type": "code",
   "execution_count": 29,
   "metadata": {},
   "outputs": [
    {
     "data": {
      "text/plain": [
       "count         3680\n",
       "unique           6\n",
       "top       DEMOCRAT\n",
       "freq          1366\n",
       "Name: party, dtype: object"
      ]
     },
     "execution_count": 29,
     "metadata": {},
     "output_type": "execute_result"
    }
   ],
   "source": [
    "donorsmall['party'].describe()"
   ]
  },
  {
   "cell_type": "code",
   "execution_count": 30,
   "metadata": {},
   "outputs": [
    {
     "data": {
      "text/plain": [
       "DEMOCRAT        1366\n",
       "REPUBLICAN      1148\n",
       "NON PARTISAN    1090\n",
       "OTHER             38\n",
       "NONE              35\n",
       "INDEPENDENT        3\n",
       "Name: party, dtype: int64"
      ]
     },
     "execution_count": 30,
     "metadata": {},
     "output_type": "execute_result"
    }
   ],
   "source": [
    "donorsmall['party'].value_counts()"
   ]
  },
  {
   "cell_type": "code",
   "execution_count": 31,
   "metadata": {},
   "outputs": [
    {
     "data": {
      "image/png": "[encoded data removed]",
      "text/plain": [
       "<matplotlib.figure.Figure at 0x1da3bbcaac8>"
      ]
     },
     "metadata": {},
     "output_type": "display_data"
    }
   ],
   "source": [
    "%matplotlib inline\n",
    "newerPalette=['grey']*3 + ['orange']*3 + ['turquoise']*3 + ['lightblue']*3\n",
    "donorsmall['party'].value_counts(sort=False).plot.bar(color=newerPalette, title=\"Donation Source Party\")\n",
    "plt.ylabel('COUNT')\n",
    "plt.xlabel('CATEGORIES')\n",
    "plt.show()"
   ]
  },
  {
   "cell_type": "code",
   "execution_count": 32,
   "metadata": {},
   "outputs": [],
   "source": [
    "byeCategories=['NONE']\n",
    "donorDRI=donorsmall[~donorsmall.party.isin(byeCategories)].copy()"
   ]
  },
  {
   "cell_type": "code",
   "execution_count": 33,
   "metadata": {},
   "outputs": [
    {
     "data": {
      "text/html": [
       "<div>\n",
       "<style scoped>\n",
       "    .dataframe tbody tr th:only-of-type {\n",
       "        vertical-align: middle;\n",
       "    }\n",
       "\n",
       "    .dataframe tbody tr th {\n",
       "        vertical-align: top;\n",
       "    }\n",
       "\n",
       "    .dataframe thead th {\n",
       "        text-align: right;\n",
       "    }\n",
       "</style>\n",
       "<table border=\"1\" class=\"dataframe\">\n",
       "  <thead>\n",
       "    <tr style=\"text-align: right;\">\n",
       "      <th></th>\n",
       "      <th>contributor_state</th>\n",
       "      <th>contributor_zip</th>\n",
       "      <th>amount</th>\n",
       "      <th>contributor_city</th>\n",
       "      <th>party</th>\n",
       "      <th>type</th>\n",
       "      <th>primary_general</th>\n",
       "    </tr>\n",
       "  </thead>\n",
       "  <tbody>\n",
       "    <tr>\n",
       "      <th>0</th>\n",
       "      <td>WA</td>\n",
       "      <td>98584</td>\n",
       "      <td>20.00</td>\n",
       "      <td>SHELTON</td>\n",
       "      <td>REPUBLICAN</td>\n",
       "      <td>Candidate</td>\n",
       "      <td>Primary</td>\n",
       "    </tr>\n",
       "    <tr>\n",
       "      <th>1</th>\n",
       "      <td>WA</td>\n",
       "      <td>98225</td>\n",
       "      <td>1000.00</td>\n",
       "      <td>BELLINGHAM</td>\n",
       "      <td>DEMOCRAT</td>\n",
       "      <td>Candidate</td>\n",
       "      <td>General</td>\n",
       "    </tr>\n",
       "    <tr>\n",
       "      <th>2</th>\n",
       "      <td>WA</td>\n",
       "      <td>99336</td>\n",
       "      <td>30.00</td>\n",
       "      <td>KENNEWICK</td>\n",
       "      <td>NaN</td>\n",
       "      <td>Political Committee</td>\n",
       "      <td>Full election cycle</td>\n",
       "    </tr>\n",
       "    <tr>\n",
       "      <th>3</th>\n",
       "      <td>WA</td>\n",
       "      <td>98121</td>\n",
       "      <td>50.00</td>\n",
       "      <td>SEATTLE</td>\n",
       "      <td>NaN</td>\n",
       "      <td>Political Committee</td>\n",
       "      <td>Full election cycle</td>\n",
       "    </tr>\n",
       "    <tr>\n",
       "      <th>4</th>\n",
       "      <td>WA</td>\n",
       "      <td>98391</td>\n",
       "      <td>164.17</td>\n",
       "      <td>BONNEY LAKE</td>\n",
       "      <td>DEMOCRAT</td>\n",
       "      <td>Candidate</td>\n",
       "      <td>Primary</td>\n",
       "    </tr>\n",
       "  </tbody>\n",
       "</table>\n",
       "</div>"
      ],
      "text/plain": [
       "  contributor_state  contributor_zip   amount contributor_city       party  \\\n",
       "0                WA            98584    20.00          SHELTON  REPUBLICAN   \n",
       "1                WA            98225  1000.00       BELLINGHAM    DEMOCRAT   \n",
       "2                WA            99336    30.00        KENNEWICK         NaN   \n",
       "3                WA            98121    50.00          SEATTLE         NaN   \n",
       "4                WA            98391   164.17      BONNEY LAKE    DEMOCRAT   \n",
       "\n",
       "                  type      primary_general  \n",
       "0            Candidate              Primary  \n",
       "1            Candidate              General  \n",
       "2  Political Committee  Full election cycle  \n",
       "3  Political Committee  Full election cycle  \n",
       "4            Candidate              Primary  "
      ]
     },
     "execution_count": 33,
     "metadata": {},
     "output_type": "execute_result"
    }
   ],
   "source": [
    "donorDRI.head()"
   ]
  },
  {
   "cell_type": "code",
   "execution_count": 35,
   "metadata": {},
   "outputs": [
    {
     "data": {
      "text/html": [
       "<div>\n",
       "<style scoped>\n",
       "    .dataframe tbody tr th:only-of-type {\n",
       "        vertical-align: middle;\n",
       "    }\n",
       "\n",
       "    .dataframe tbody tr th {\n",
       "        vertical-align: top;\n",
       "    }\n",
       "\n",
       "    .dataframe thead th {\n",
       "        text-align: right;\n",
       "    }\n",
       "</style>\n",
       "<table border=\"1\" class=\"dataframe\">\n",
       "  <thead>\n",
       "    <tr style=\"text-align: right;\">\n",
       "      <th>party</th>\n",
       "      <th>DEMOCRAT</th>\n",
       "      <th>INDEPENDENT</th>\n",
       "      <th>NON PARTISAN</th>\n",
       "      <th>OTHER</th>\n",
       "      <th>REPUBLICAN</th>\n",
       "    </tr>\n",
       "    <tr>\n",
       "      <th>primary_general</th>\n",
       "      <th></th>\n",
       "      <th></th>\n",
       "      <th></th>\n",
       "      <th></th>\n",
       "      <th></th>\n",
       "    </tr>\n",
       "  </thead>\n",
       "  <tbody>\n",
       "    <tr>\n",
       "      <th>Full election cycle</th>\n",
       "      <td>111.891500</td>\n",
       "      <td>108.5</td>\n",
       "      <td>170.656211</td>\n",
       "      <td>54.266667</td>\n",
       "      <td>149.010714</td>\n",
       "    </tr>\n",
       "    <tr>\n",
       "      <th>General</th>\n",
       "      <td>269.072911</td>\n",
       "      <td>NaN</td>\n",
       "      <td>207.928530</td>\n",
       "      <td>183.000000</td>\n",
       "      <td>362.629145</td>\n",
       "    </tr>\n",
       "    <tr>\n",
       "      <th>Primary</th>\n",
       "      <td>210.884613</td>\n",
       "      <td>250.0</td>\n",
       "      <td>192.544473</td>\n",
       "      <td>1785.769231</td>\n",
       "      <td>224.178698</td>\n",
       "    </tr>\n",
       "  </tbody>\n",
       "</table>\n",
       "</div>"
      ],
      "text/plain": [
       "party                  DEMOCRAT  INDEPENDENT  NON PARTISAN        OTHER  \\\n",
       "primary_general                                                           \n",
       "Full election cycle  111.891500        108.5    170.656211    54.266667   \n",
       "General              269.072911          NaN    207.928530   183.000000   \n",
       "Primary              210.884613        250.0    192.544473  1785.769231   \n",
       "\n",
       "party                REPUBLICAN  \n",
       "primary_general                  \n",
       "Full election cycle  149.010714  \n",
       "General              362.629145  \n",
       "Primary              224.178698  "
      ]
     },
     "execution_count": 35,
     "metadata": {},
     "output_type": "execute_result"
    }
   ],
   "source": [
    "pd.pivot_table(donorDRI, values='amount',index='primary_general',columns='party', aggfunc='mean')"
   ]
  },
  {
   "cell_type": "code",
   "execution_count": 36,
   "metadata": {},
   "outputs": [],
   "source": [
    "seattle = donorDRI[(donorDRI.contributor_city=='SEATTLE')]"
   ]
  },
  {
   "cell_type": "code",
   "execution_count": 37,
   "metadata": {},
   "outputs": [
    {
     "name": "stderr",
     "output_type": "stream",
     "text": [
      "C:\\Users\\win\\Documents\\Anaconda3\\lib\\site-packages\\seaborn\\categorical.py:462: FutureWarning: remove_na is deprecated and is a private function. Do not use.\n",
      "  box_data = remove_na(group_data)\n"
     ]
    },
    {
     "data": {
      "text/plain": [
       "<matplotlib.axes._subplots.AxesSubplot at 0x1da3bbcff28>"
      ]
     },
     "execution_count": 37,
     "metadata": {},
     "output_type": "execute_result"
    },
    {
     "data": {
      "image/png": "[encoded data removed]",
      "text/plain": [
       "<matplotlib.figure.Figure at 0x1da3bb3d9b0>"
      ]
     },
     "metadata": {},
     "output_type": "display_data"
    }
   ],
   "source": [
    "plt.figure(figsize=(10,15))\n",
    "sns.boxplot(x=\"party\", y=\"amount\", data=seattle)"
   ]
  },
  {
   "cell_type": "code",
   "execution_count": 38,
   "metadata": {},
   "outputs": [
    {
     "data": {
      "image/png": "[encoded data removed]",
      "text/plain": [
       "<matplotlib.figure.Figure at 0x1da3bcbe7b8>"
      ]
     },
     "metadata": {},
     "output_type": "display_data"
    }
   ],
   "source": [
    "plt.figure(figsize=(50,10))\n",
    "sns.kdeplot(seattle[seattle.party=='DEMOCRAT'].amount, label=\"DEMOCRAT\")\n",
    "sns.kdeplot(seattle[seattle.party=='REPUBLICAN'].amount, label=\"REPUBLICAN\")\n",
    "sns.kdeplot(seattle[seattle.party=='OTHER'].amount, label=\"OTHER\")\n",
    "sns.kdeplot(seattle[seattle.party=='NON PARTISAN'].amount, label=\"NON PARTISAN\")\n",
    "plt.legend();"
   ]
  },
  {
   "cell_type": "code",
   "execution_count": 42,
   "metadata": {},
   "outputs": [],
   "source": [
    "donorDRI.dropna(inplace=True)"
   ]
  },
  {
   "cell_type": "code",
   "execution_count": 43,
   "metadata": {},
   "outputs": [
    {
     "name": "stdout",
     "output_type": "stream",
     "text": [
      "                    Robust linear Model Regression Results                    \n",
      "==============================================================================\n",
      "Dep. Variable:                 amount   No. Observations:                 3645\n",
      "Model:                            RLM   Df Residuals:                     3638\n",
      "Method:                          IRLS   Df Model:                            6\n",
      "Norm:                          HuberT                                         \n",
      "Scale Est.:                       mad                                         \n",
      "Cov Type:                          H1                                         \n",
      "Date:                Thu, 08 Feb 2018                                         \n",
      "Time:                        09:38:44                                         \n",
      "No. Iterations:                    50                                         \n",
      "===================================================================================================================================\n",
      "                                                                      coef    std err          z      P>|z|      [0.025      0.975]\n",
      "-----------------------------------------------------------------------------------------------------------------------------------\n",
      "Intercept                                                          85.8030    3.7e+14   2.32e-13      1.000   -7.25e+14    7.25e+14\n",
      "C(party, Treatment(\"INDEPENDENT\"))[T.DEMOCRAT]                    -52.7851     73.085     -0.722      0.470    -196.029      90.459\n",
      "C(party, Treatment(\"INDEPENDENT\"))[T.NON PARTISAN]                -44.3705     73.004     -0.608      0.543    -187.456      98.715\n",
      "C(party, Treatment(\"INDEPENDENT\"))[T.NONE]                      -3.023e-13   4.96e+10   -6.1e-24      1.000   -9.71e+10    9.71e+10\n",
      "C(party, Treatment(\"INDEPENDENT\"))[T.OTHER]                       -67.7445     75.717     -0.895      0.371    -216.146      80.657\n",
      "C(party, Treatment(\"INDEPENDENT\"))[T.REPUBLICAN]                  -47.9722     73.103     -0.656      0.512    -191.251      95.307\n",
      "C(type, Treatment(\"Political Committee\"))[T.Candidate]             85.8030    3.7e+14   2.32e-13      1.000   -7.25e+14    7.25e+14\n",
      "C(primary_general, Treatment(\"Primary\"))[T.Full election cycle]   -23.9091      7.267     -3.290      0.001     -38.152      -9.666\n",
      "C(primary_general, Treatment(\"Primary\"))[T.General]                18.4121      4.619      3.986      0.000       9.359      27.465\n",
      "===================================================================================================================================\n",
      "\n",
      "If the model instance has been used for another fit with different fit\n",
      "parameters, then the fit options might not be the correct ones anymore .\n"
     ]
    }
   ],
   "source": [
    "from statsmodels.robust.robust_linear_model import RLM\n",
    "\n",
    "formula='amount ~ C(party, Treatment(\"INDEPENDENT\"))+ C(type, Treatment(\"Political Committee\"))+ C(primary_general, Treatment(\"Primary\"))'\n",
    "LinRegR_catX = RLM.from_formula(formula, donorDRI).fit()\n",
    "print(LinRegR_catX.summary())"
   ]
  },
  {
   "cell_type": "code",
   "execution_count": 44,
   "metadata": {},
   "outputs": [
    {
     "data": {
      "text/html": [
       "<div>\n",
       "<style scoped>\n",
       "    .dataframe tbody tr th:only-of-type {\n",
       "        vertical-align: middle;\n",
       "    }\n",
       "\n",
       "    .dataframe tbody tr th {\n",
       "        vertical-align: top;\n",
       "    }\n",
       "\n",
       "    .dataframe thead th {\n",
       "        text-align: right;\n",
       "    }\n",
       "</style>\n",
       "<table border=\"1\" class=\"dataframe\">\n",
       "  <thead>\n",
       "    <tr style=\"text-align: right;\">\n",
       "      <th></th>\n",
       "      <th>Coefficients</th>\n",
       "      <th>Significant?</th>\n",
       "    </tr>\n",
       "  </thead>\n",
       "  <tbody>\n",
       "    <tr>\n",
       "      <th>Intercept</th>\n",
       "      <td>8.580305e+01</td>\n",
       "      <td>False</td>\n",
       "    </tr>\n",
       "    <tr>\n",
       "      <th>C(party, Treatment(\"INDEPENDENT\"))[T.DEMOCRAT]</th>\n",
       "      <td>-5.278514e+01</td>\n",
       "      <td>False</td>\n",
       "    </tr>\n",
       "    <tr>\n",
       "      <th>C(party, Treatment(\"INDEPENDENT\"))[T.NON PARTISAN]</th>\n",
       "      <td>-4.437050e+01</td>\n",
       "      <td>False</td>\n",
       "    </tr>\n",
       "    <tr>\n",
       "      <th>C(party, Treatment(\"INDEPENDENT\"))[T.NONE]</th>\n",
       "      <td>-3.022552e-13</td>\n",
       "      <td>False</td>\n",
       "    </tr>\n",
       "    <tr>\n",
       "      <th>C(party, Treatment(\"INDEPENDENT\"))[T.OTHER]</th>\n",
       "      <td>-6.774446e+01</td>\n",
       "      <td>False</td>\n",
       "    </tr>\n",
       "    <tr>\n",
       "      <th>C(party, Treatment(\"INDEPENDENT\"))[T.REPUBLICAN]</th>\n",
       "      <td>-4.797225e+01</td>\n",
       "      <td>False</td>\n",
       "    </tr>\n",
       "    <tr>\n",
       "      <th>C(type, Treatment(\"Political Committee\"))[T.Candidate]</th>\n",
       "      <td>8.580305e+01</td>\n",
       "      <td>False</td>\n",
       "    </tr>\n",
       "    <tr>\n",
       "      <th>C(primary_general, Treatment(\"Primary\"))[T.Full election cycle]</th>\n",
       "      <td>-2.390914e+01</td>\n",
       "      <td>True</td>\n",
       "    </tr>\n",
       "    <tr>\n",
       "      <th>C(primary_general, Treatment(\"Primary\"))[T.General]</th>\n",
       "      <td>1.841212e+01</td>\n",
       "      <td>True</td>\n",
       "    </tr>\n",
       "  </tbody>\n",
       "</table>\n",
       "</div>"
      ],
      "text/plain": [
       "                                                    Coefficients  Significant?\n",
       "Intercept                                           8.580305e+01         False\n",
       "C(party, Treatment(\"INDEPENDENT\"))[T.DEMOCRAT]     -5.278514e+01         False\n",
       "C(party, Treatment(\"INDEPENDENT\"))[T.NON PARTISAN] -4.437050e+01         False\n",
       "C(party, Treatment(\"INDEPENDENT\"))[T.NONE]         -3.022552e-13         False\n",
       "C(party, Treatment(\"INDEPENDENT\"))[T.OTHER]        -6.774446e+01         False\n",
       "C(party, Treatment(\"INDEPENDENT\"))[T.REPUBLICAN]   -4.797225e+01         False\n",
       "C(type, Treatment(\"Political Committee\"))[T.Can...  8.580305e+01         False\n",
       "C(primary_general, Treatment(\"Primary\"))[T.Full... -2.390914e+01          True\n",
       "C(primary_general, Treatment(\"Primary\"))[T.Gene...  1.841212e+01          True"
      ]
     },
     "execution_count": 44,
     "metadata": {},
     "output_type": "execute_result"
    }
   ],
   "source": [
    "pd.concat({'Coefficients':LinRegR_catX.params,\n",
    "           'Significant?':LinRegR_catX.pvalues<0.05},axis=1)"
   ]
  },
  {
   "cell_type": "code",
   "execution_count": null,
   "metadata": {},
   "outputs": [],
   "source": []
  }
 ],
 "metadata": {
  "kernelspec": {
   "display_name": "Python 3",
   "language": "python",
   "name": "python3"
  },
  "language_info": {
   "codemirror_mode": {
    "name": "ipython",
    "version": 3
   },
   "file_extension": ".py",
   "mimetype": "text/x-python",
   "name": "python",
   "nbconvert_exporter": "python",
   "pygments_lexer": "ipython3",
   "version": "3.6.3"
  }
 },
 "nbformat": 4,
 "nbformat_minor": 2
}
