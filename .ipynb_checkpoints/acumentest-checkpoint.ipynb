{
 "cells": [
  {
   "cell_type": "code",
   "execution_count": 16,
   "metadata": {},
   "outputs": [],
   "source": [
    "import pandas as pd\n",
    "link='https://raw.githubusercontent.com/maomaohenmao/data/master/Acumen_Data.xlsx'\n",
    "acumen = pd.read_excel(link)"
   ]
  },
  {
   "cell_type": "code",
   "execution_count": 17,
   "metadata": {},
   "outputs": [
    {
     "data": {
      "text/plain": [
       "Observation Number                       int64\n",
       "Quarter                                  int64\n",
       "Employee Id                              int64\n",
       "Sex (Male=1)                           float64\n",
       "Race                                   float64\n",
       "Age                                    float64\n",
       "Hospital Visit This Quarter (1=Yes)      int64\n",
       "Salary                                 float64\n",
       "Health Score                           float64\n",
       "dtype: object"
      ]
     },
     "execution_count": 17,
     "metadata": {},
     "output_type": "execute_result"
    }
   ],
   "source": [
    "acumen.dtypes"
   ]
  },
  {
   "cell_type": "code",
   "execution_count": 18,
   "metadata": {},
   "outputs": [
    {
     "data": {
      "text/html": [
       "<div>\n",
       "<style scoped>\n",
       "    .dataframe tbody tr th:only-of-type {\n",
       "        vertical-align: middle;\n",
       "    }\n",
       "\n",
       "    .dataframe tbody tr th {\n",
       "        vertical-align: top;\n",
       "    }\n",
       "\n",
       "    .dataframe thead th {\n",
       "        text-align: right;\n",
       "    }\n",
       "</style>\n",
       "<table border=\"1\" class=\"dataframe\">\n",
       "  <thead>\n",
       "    <tr style=\"text-align: right;\">\n",
       "      <th></th>\n",
       "      <th>Observation Number</th>\n",
       "      <th>Quarter</th>\n",
       "      <th>Employee Id</th>\n",
       "      <th>Sex (Male=1)</th>\n",
       "      <th>Race</th>\n",
       "      <th>Age</th>\n",
       "      <th>Hospital Visit This Quarter (1=Yes)</th>\n",
       "      <th>Salary</th>\n",
       "      <th>Health Score</th>\n",
       "    </tr>\n",
       "  </thead>\n",
       "  <tbody>\n",
       "    <tr>\n",
       "      <th>0</th>\n",
       "      <td>1</td>\n",
       "      <td>1</td>\n",
       "      <td>1</td>\n",
       "      <td>0.0</td>\n",
       "      <td>3.0</td>\n",
       "      <td>27.31931</td>\n",
       "      <td>0</td>\n",
       "      <td>36906.57</td>\n",
       "      <td>3.695037</td>\n",
       "    </tr>\n",
       "    <tr>\n",
       "      <th>1</th>\n",
       "      <td>2</td>\n",
       "      <td>2</td>\n",
       "      <td>1</td>\n",
       "      <td>0.0</td>\n",
       "      <td>3.0</td>\n",
       "      <td>27.81931</td>\n",
       "      <td>0</td>\n",
       "      <td>37906.57</td>\n",
       "      <td>4.978868</td>\n",
       "    </tr>\n",
       "    <tr>\n",
       "      <th>2</th>\n",
       "      <td>3</td>\n",
       "      <td>3</td>\n",
       "      <td>1</td>\n",
       "      <td>0.0</td>\n",
       "      <td>3.0</td>\n",
       "      <td>28.06931</td>\n",
       "      <td>0</td>\n",
       "      <td>38906.57</td>\n",
       "      <td>4.007956</td>\n",
       "    </tr>\n",
       "    <tr>\n",
       "      <th>3</th>\n",
       "      <td>4</td>\n",
       "      <td>4</td>\n",
       "      <td>1</td>\n",
       "      <td>0.0</td>\n",
       "      <td>3.0</td>\n",
       "      <td>28.31931</td>\n",
       "      <td>0</td>\n",
       "      <td>39906.57</td>\n",
       "      <td>2.337157</td>\n",
       "    </tr>\n",
       "    <tr>\n",
       "      <th>4</th>\n",
       "      <td>5</td>\n",
       "      <td>5</td>\n",
       "      <td>1</td>\n",
       "      <td>0.0</td>\n",
       "      <td>3.0</td>\n",
       "      <td>28.56931</td>\n",
       "      <td>0</td>\n",
       "      <td>40906.57</td>\n",
       "      <td>2.112604</td>\n",
       "    </tr>\n",
       "  </tbody>\n",
       "</table>\n",
       "</div>"
      ],
      "text/plain": [
       "   Observation Number  Quarter  Employee Id  Sex (Male=1)  Race       Age  \\\n",
       "0                   1        1            1           0.0   3.0  27.31931   \n",
       "1                   2        2            1           0.0   3.0  27.81931   \n",
       "2                   3        3            1           0.0   3.0  28.06931   \n",
       "3                   4        4            1           0.0   3.0  28.31931   \n",
       "4                   5        5            1           0.0   3.0  28.56931   \n",
       "\n",
       "   Hospital Visit This Quarter (1=Yes)    Salary  Health Score  \n",
       "0                                    0  36906.57      3.695037  \n",
       "1                                    0  37906.57      4.978868  \n",
       "2                                    0  38906.57      4.007956  \n",
       "3                                    0  39906.57      2.337157  \n",
       "4                                    0  40906.57      2.112604  "
      ]
     },
     "execution_count": 18,
     "metadata": {},
     "output_type": "execute_result"
    }
   ],
   "source": [
    "acumen.head()"
   ]
  },
  {
   "cell_type": "code",
   "execution_count": 36,
   "metadata": {},
   "outputs": [
    {
     "data": {
      "text/html": [
       "<div>\n",
       "<style scoped>\n",
       "    .dataframe tbody tr th:only-of-type {\n",
       "        vertical-align: middle;\n",
       "    }\n",
       "\n",
       "    .dataframe tbody tr th {\n",
       "        vertical-align: top;\n",
       "    }\n",
       "\n",
       "    .dataframe thead th {\n",
       "        text-align: right;\n",
       "    }\n",
       "</style>\n",
       "<table border=\"1\" class=\"dataframe\">\n",
       "  <thead>\n",
       "    <tr style=\"text-align: right;\">\n",
       "      <th></th>\n",
       "      <th>Observation Number</th>\n",
       "      <th>Quarter</th>\n",
       "      <th>Employee Id</th>\n",
       "      <th>Sex (Male=1)</th>\n",
       "      <th>Race</th>\n",
       "      <th>Age</th>\n",
       "      <th>Hospital Visit This Quarter (1=Yes)</th>\n",
       "      <th>Salary</th>\n",
       "      <th>Health Score</th>\n",
       "    </tr>\n",
       "  </thead>\n",
       "  <tbody>\n",
       "    <tr>\n",
       "      <th>count</th>\n",
       "      <td>19103.000000</td>\n",
       "      <td>19103.000000</td>\n",
       "      <td>19103.000000</td>\n",
       "      <td>19032.000000</td>\n",
       "      <td>16980.000000</td>\n",
       "      <td>19079.000000</td>\n",
       "      <td>19103.000000</td>\n",
       "      <td>19103.000000</td>\n",
       "      <td>19103.000000</td>\n",
       "    </tr>\n",
       "    <tr>\n",
       "      <th>mean</th>\n",
       "      <td>9552.000000</td>\n",
       "      <td>7.342826</td>\n",
       "      <td>998.012249</td>\n",
       "      <td>0.506305</td>\n",
       "      <td>1.597055</td>\n",
       "      <td>30.523553</td>\n",
       "      <td>0.111448</td>\n",
       "      <td>48297.597961</td>\n",
       "      <td>3.588144</td>\n",
       "    </tr>\n",
       "    <tr>\n",
       "      <th>std</th>\n",
       "      <td>5514.705432</td>\n",
       "      <td>3.166792</td>\n",
       "      <td>577.313902</td>\n",
       "      <td>0.499973</td>\n",
       "      <td>0.739656</td>\n",
       "      <td>6.332535</td>\n",
       "      <td>0.314695</td>\n",
       "      <td>5351.302344</td>\n",
       "      <td>1.985161</td>\n",
       "    </tr>\n",
       "    <tr>\n",
       "      <th>min</th>\n",
       "      <td>1.000000</td>\n",
       "      <td>1.000000</td>\n",
       "      <td>1.000000</td>\n",
       "      <td>0.000000</td>\n",
       "      <td>1.000000</td>\n",
       "      <td>16.000000</td>\n",
       "      <td>0.000000</td>\n",
       "      <td>28350.700000</td>\n",
       "      <td>0.626599</td>\n",
       "    </tr>\n",
       "    <tr>\n",
       "      <th>25%</th>\n",
       "      <td>4776.500000</td>\n",
       "      <td>5.000000</td>\n",
       "      <td>498.000000</td>\n",
       "      <td>0.000000</td>\n",
       "      <td>1.000000</td>\n",
       "      <td>26.326385</td>\n",
       "      <td>0.000000</td>\n",
       "      <td>44550.710000</td>\n",
       "      <td>2.356736</td>\n",
       "    </tr>\n",
       "    <tr>\n",
       "      <th>50%</th>\n",
       "      <td>9552.000000</td>\n",
       "      <td>8.000000</td>\n",
       "      <td>996.000000</td>\n",
       "      <td>1.000000</td>\n",
       "      <td>1.000000</td>\n",
       "      <td>28.566030</td>\n",
       "      <td>0.000000</td>\n",
       "      <td>48196.080000</td>\n",
       "      <td>3.119627</td>\n",
       "    </tr>\n",
       "    <tr>\n",
       "      <th>75%</th>\n",
       "      <td>14327.500000</td>\n",
       "      <td>10.000000</td>\n",
       "      <td>1498.000000</td>\n",
       "      <td>1.000000</td>\n",
       "      <td>2.000000</td>\n",
       "      <td>32.436070</td>\n",
       "      <td>0.000000</td>\n",
       "      <td>51958.410000</td>\n",
       "      <td>4.128051</td>\n",
       "    </tr>\n",
       "    <tr>\n",
       "      <th>max</th>\n",
       "      <td>19103.000000</td>\n",
       "      <td>12.000000</td>\n",
       "      <td>2000.000000</td>\n",
       "      <td>1.000000</td>\n",
       "      <td>3.000000</td>\n",
       "      <td>61.852070</td>\n",
       "      <td>1.000000</td>\n",
       "      <td>68826.340000</td>\n",
       "      <td>10.000000</td>\n",
       "    </tr>\n",
       "  </tbody>\n",
       "</table>\n",
       "</div>"
      ],
      "text/plain": [
       "       Observation Number       Quarter   Employee Id  Sex (Male=1)  \\\n",
       "count        19103.000000  19103.000000  19103.000000  19032.000000   \n",
       "mean          9552.000000      7.342826    998.012249      0.506305   \n",
       "std           5514.705432      3.166792    577.313902      0.499973   \n",
       "min              1.000000      1.000000      1.000000      0.000000   \n",
       "25%           4776.500000      5.000000    498.000000      0.000000   \n",
       "50%           9552.000000      8.000000    996.000000      1.000000   \n",
       "75%          14327.500000     10.000000   1498.000000      1.000000   \n",
       "max          19103.000000     12.000000   2000.000000      1.000000   \n",
       "\n",
       "               Race           Age  Hospital Visit This Quarter (1=Yes)  \\\n",
       "count  16980.000000  19079.000000                         19103.000000   \n",
       "mean       1.597055     30.523553                             0.111448   \n",
       "std        0.739656      6.332535                             0.314695   \n",
       "min        1.000000     16.000000                             0.000000   \n",
       "25%        1.000000     26.326385                             0.000000   \n",
       "50%        1.000000     28.566030                             0.000000   \n",
       "75%        2.000000     32.436070                             0.000000   \n",
       "max        3.000000     61.852070                             1.000000   \n",
       "\n",
       "             Salary  Health Score  \n",
       "count  19103.000000  19103.000000  \n",
       "mean   48297.597961      3.588144  \n",
       "std     5351.302344      1.985161  \n",
       "min    28350.700000      0.626599  \n",
       "25%    44550.710000      2.356736  \n",
       "50%    48196.080000      3.119627  \n",
       "75%    51958.410000      4.128051  \n",
       "max    68826.340000     10.000000  "
      ]
     },
     "execution_count": 36,
     "metadata": {},
     "output_type": "execute_result"
    }
   ],
   "source": [
    "acumen.describe()"
   ]
  },
  {
   "cell_type": "code",
   "execution_count": 24,
   "metadata": {},
   "outputs": [
    {
     "name": "stderr",
     "output_type": "stream",
     "text": [
      "D:\\MPA\\Anaconda\\lib\\site-packages\\ipykernel_launcher.py:1: SettingWithCopyWarning: \n",
      "A value is trying to be set on a copy of a slice from a DataFrame\n",
      "\n",
      "See the caveats in the documentation: http://pandas.pydata.org/pandas-docs/stable/indexing.html#indexing-view-versus-copy\n",
      "  \"\"\"Entry point for launching an IPython kernel.\n"
     ]
    }
   ],
   "source": [
    "acumen['Age'][acumen.Age < 16] = None"
   ]
  },
  {
   "cell_type": "code",
   "execution_count": 26,
   "metadata": {},
   "outputs": [
    {
     "name": "stderr",
     "output_type": "stream",
     "text": [
      "D:\\MPA\\Anaconda\\lib\\site-packages\\ipykernel_launcher.py:1: SettingWithCopyWarning: \n",
      "A value is trying to be set on a copy of a slice from a DataFrame\n",
      "\n",
      "See the caveats in the documentation: http://pandas.pydata.org/pandas-docs/stable/indexing.html#indexing-view-versus-copy\n",
      "  \"\"\"Entry point for launching an IPython kernel.\n"
     ]
    }
   ],
   "source": [
    "acumen['Age'][acumen.Age > 67] = None"
   ]
  },
  {
   "cell_type": "code",
   "execution_count": 159,
   "metadata": {},
   "outputs": [],
   "source": [
    "acumen2=acumen.rename(index=str, columns={\"Health Score\": \"HealthScore\"})"
   ]
  },
  {
   "cell_type": "code",
   "execution_count": 160,
   "metadata": {},
   "outputs": [
    {
     "name": "stderr",
     "output_type": "stream",
     "text": [
      "D:\\MPA\\Anaconda\\lib\\site-packages\\ipykernel_launcher.py:1: SettingWithCopyWarning: \n",
      "A value is trying to be set on a copy of a slice from a DataFrame\n",
      "\n",
      "See the caveats in the documentation: http://pandas.pydata.org/pandas-docs/stable/indexing.html#indexing-view-versus-copy\n",
      "  \"\"\"Entry point for launching an IPython kernel.\n"
     ]
    }
   ],
   "source": [
    "acumen2['HealthScore'][acumen2.HealthScore > 6] = None"
   ]
  },
  {
   "cell_type": "code",
   "execution_count": 161,
   "metadata": {},
   "outputs": [],
   "source": [
    "import numpy as np\n",
    "symbolsForNA=['']\n",
    "acumen2.replace(symbolsForNA,np.nan,inplace=True)"
   ]
  },
  {
   "cell_type": "code",
   "execution_count": 162,
   "metadata": {},
   "outputs": [
    {
     "data": {
      "text/html": [
       "<div>\n",
       "<style scoped>\n",
       "    .dataframe tbody tr th:only-of-type {\n",
       "        vertical-align: middle;\n",
       "    }\n",
       "\n",
       "    .dataframe tbody tr th {\n",
       "        vertical-align: top;\n",
       "    }\n",
       "\n",
       "    .dataframe thead th {\n",
       "        text-align: right;\n",
       "    }\n",
       "</style>\n",
       "<table border=\"1\" class=\"dataframe\">\n",
       "  <thead>\n",
       "    <tr style=\"text-align: right;\">\n",
       "      <th></th>\n",
       "      <th>Observation Number</th>\n",
       "      <th>Quarter</th>\n",
       "      <th>Employee Id</th>\n",
       "      <th>Sex (Male=1)</th>\n",
       "      <th>Race</th>\n",
       "      <th>Age</th>\n",
       "      <th>Hospital Visit This Quarter (1=Yes)</th>\n",
       "      <th>Salary</th>\n",
       "      <th>HealthScore</th>\n",
       "    </tr>\n",
       "  </thead>\n",
       "  <tbody>\n",
       "    <tr>\n",
       "      <th>count</th>\n",
       "      <td>19103.000000</td>\n",
       "      <td>19103.000000</td>\n",
       "      <td>19103.000000</td>\n",
       "      <td>19032.000000</td>\n",
       "      <td>16980.000000</td>\n",
       "      <td>19079.000000</td>\n",
       "      <td>19103.000000</td>\n",
       "      <td>19103.000000</td>\n",
       "      <td>17865.000000</td>\n",
       "    </tr>\n",
       "    <tr>\n",
       "      <th>mean</th>\n",
       "      <td>9552.000000</td>\n",
       "      <td>7.342826</td>\n",
       "      <td>998.012249</td>\n",
       "      <td>0.506305</td>\n",
       "      <td>1.597055</td>\n",
       "      <td>30.523553</td>\n",
       "      <td>0.111448</td>\n",
       "      <td>48297.597961</td>\n",
       "      <td>3.143818</td>\n",
       "    </tr>\n",
       "    <tr>\n",
       "      <th>std</th>\n",
       "      <td>5514.705432</td>\n",
       "      <td>3.166792</td>\n",
       "      <td>577.313902</td>\n",
       "      <td>0.499973</td>\n",
       "      <td>0.739656</td>\n",
       "      <td>6.332535</td>\n",
       "      <td>0.314695</td>\n",
       "      <td>5351.302344</td>\n",
       "      <td>1.080473</td>\n",
       "    </tr>\n",
       "    <tr>\n",
       "      <th>min</th>\n",
       "      <td>1.000000</td>\n",
       "      <td>1.000000</td>\n",
       "      <td>1.000000</td>\n",
       "      <td>0.000000</td>\n",
       "      <td>1.000000</td>\n",
       "      <td>16.000000</td>\n",
       "      <td>0.000000</td>\n",
       "      <td>28350.700000</td>\n",
       "      <td>0.626599</td>\n",
       "    </tr>\n",
       "    <tr>\n",
       "      <th>25%</th>\n",
       "      <td>4776.500000</td>\n",
       "      <td>5.000000</td>\n",
       "      <td>498.000000</td>\n",
       "      <td>0.000000</td>\n",
       "      <td>1.000000</td>\n",
       "      <td>26.326385</td>\n",
       "      <td>0.000000</td>\n",
       "      <td>44550.710000</td>\n",
       "      <td>2.304589</td>\n",
       "    </tr>\n",
       "    <tr>\n",
       "      <th>50%</th>\n",
       "      <td>9552.000000</td>\n",
       "      <td>8.000000</td>\n",
       "      <td>996.000000</td>\n",
       "      <td>1.000000</td>\n",
       "      <td>1.000000</td>\n",
       "      <td>28.566030</td>\n",
       "      <td>0.000000</td>\n",
       "      <td>48196.080000</td>\n",
       "      <td>3.019839</td>\n",
       "    </tr>\n",
       "    <tr>\n",
       "      <th>75%</th>\n",
       "      <td>14327.500000</td>\n",
       "      <td>10.000000</td>\n",
       "      <td>1498.000000</td>\n",
       "      <td>1.000000</td>\n",
       "      <td>2.000000</td>\n",
       "      <td>32.436070</td>\n",
       "      <td>0.000000</td>\n",
       "      <td>51958.410000</td>\n",
       "      <td>3.882059</td>\n",
       "    </tr>\n",
       "    <tr>\n",
       "      <th>max</th>\n",
       "      <td>19103.000000</td>\n",
       "      <td>12.000000</td>\n",
       "      <td>2000.000000</td>\n",
       "      <td>1.000000</td>\n",
       "      <td>3.000000</td>\n",
       "      <td>61.852070</td>\n",
       "      <td>1.000000</td>\n",
       "      <td>68826.340000</td>\n",
       "      <td>5.998104</td>\n",
       "    </tr>\n",
       "  </tbody>\n",
       "</table>\n",
       "</div>"
      ],
      "text/plain": [
       "       Observation Number       Quarter   Employee Id  Sex (Male=1)  \\\n",
       "count        19103.000000  19103.000000  19103.000000  19032.000000   \n",
       "mean          9552.000000      7.342826    998.012249      0.506305   \n",
       "std           5514.705432      3.166792    577.313902      0.499973   \n",
       "min              1.000000      1.000000      1.000000      0.000000   \n",
       "25%           4776.500000      5.000000    498.000000      0.000000   \n",
       "50%           9552.000000      8.000000    996.000000      1.000000   \n",
       "75%          14327.500000     10.000000   1498.000000      1.000000   \n",
       "max          19103.000000     12.000000   2000.000000      1.000000   \n",
       "\n",
       "               Race           Age  Hospital Visit This Quarter (1=Yes)  \\\n",
       "count  16980.000000  19079.000000                         19103.000000   \n",
       "mean       1.597055     30.523553                             0.111448   \n",
       "std        0.739656      6.332535                             0.314695   \n",
       "min        1.000000     16.000000                             0.000000   \n",
       "25%        1.000000     26.326385                             0.000000   \n",
       "50%        1.000000     28.566030                             0.000000   \n",
       "75%        2.000000     32.436070                             0.000000   \n",
       "max        3.000000     61.852070                             1.000000   \n",
       "\n",
       "             Salary   HealthScore  \n",
       "count  19103.000000  17865.000000  \n",
       "mean   48297.597961      3.143818  \n",
       "std     5351.302344      1.080473  \n",
       "min    28350.700000      0.626599  \n",
       "25%    44550.710000      2.304589  \n",
       "50%    48196.080000      3.019839  \n",
       "75%    51958.410000      3.882059  \n",
       "max    68826.340000      5.998104  "
      ]
     },
     "execution_count": 162,
     "metadata": {},
     "output_type": "execute_result"
    }
   ],
   "source": [
    "acumen2.describe()"
   ]
  },
  {
   "cell_type": "code",
   "execution_count": 164,
   "metadata": {},
   "outputs": [
    {
     "data": {
      "text/plain": [
       "Observation Number                       int64\n",
       "Quarter                                  int64\n",
       "Employee Id                              int64\n",
       "Sex (Male=1)                           float64\n",
       "Race                                   float64\n",
       "Age                                    float64\n",
       "Hospital Visit This Quarter (1=Yes)      int64\n",
       "Salary                                 float64\n",
       "HealthScore                            float64\n",
       "dtype: object"
      ]
     },
     "execution_count": 164,
     "metadata": {},
     "output_type": "execute_result"
    }
   ],
   "source": [
    "acumen2.dtypes()"
   ]
  },
  {
   "cell_type": "code",
   "execution_count": 114,
   "metadata": {},
   "outputs": [],
   "source": [
    "people = acumen2.drop_duplicates(subset='Employee Id')"
   ]
  },
  {
   "cell_type": "code",
   "execution_count": 116,
   "metadata": {},
   "outputs": [
    {
     "name": "stderr",
     "output_type": "stream",
     "text": [
      "D:\\MPA\\Anaconda\\lib\\site-packages\\ipykernel_launcher.py:2: SettingWithCopyWarning: \n",
      "A value is trying to be set on a copy of a slice from a DataFrame\n",
      "\n",
      "See the caveats in the documentation: http://pandas.pydata.org/pandas-docs/stable/indexing.html#indexing-view-versus-copy\n",
      "  \n"
     ]
    }
   ],
   "source": [
    "byeColumns=['Quarter']\n",
    "people.drop(byeColumns,axis=1,inplace=True)"
   ]
  },
  {
   "cell_type": "code",
   "execution_count": 117,
   "metadata": {},
   "outputs": [
    {
     "data": {
      "text/html": [
       "<div>\n",
       "<style scoped>\n",
       "    .dataframe tbody tr th:only-of-type {\n",
       "        vertical-align: middle;\n",
       "    }\n",
       "\n",
       "    .dataframe tbody tr th {\n",
       "        vertical-align: top;\n",
       "    }\n",
       "\n",
       "    .dataframe thead th {\n",
       "        text-align: right;\n",
       "    }\n",
       "</style>\n",
       "<table border=\"1\" class=\"dataframe\">\n",
       "  <thead>\n",
       "    <tr style=\"text-align: right;\">\n",
       "      <th></th>\n",
       "      <th>Observation Number</th>\n",
       "      <th>Employee Id</th>\n",
       "      <th>Sex (Male=1)</th>\n",
       "      <th>Race</th>\n",
       "      <th>Age</th>\n",
       "      <th>Hospital Visit This Quarter (1=Yes)</th>\n",
       "      <th>Salary</th>\n",
       "      <th>HealthScore</th>\n",
       "    </tr>\n",
       "  </thead>\n",
       "  <tbody>\n",
       "    <tr>\n",
       "      <th>count</th>\n",
       "      <td>1962.000000</td>\n",
       "      <td>1962.000000</td>\n",
       "      <td>1955.000000</td>\n",
       "      <td>1742.000000</td>\n",
       "      <td>1959.000000</td>\n",
       "      <td>1962.000000</td>\n",
       "      <td>1962.000000</td>\n",
       "      <td>1836.000000</td>\n",
       "    </tr>\n",
       "    <tr>\n",
       "      <th>mean</th>\n",
       "      <td>9540.574924</td>\n",
       "      <td>997.279817</td>\n",
       "      <td>0.505882</td>\n",
       "      <td>1.596441</td>\n",
       "      <td>30.204803</td>\n",
       "      <td>0.086646</td>\n",
       "      <td>43639.868935</td>\n",
       "      <td>3.075195</td>\n",
       "    </tr>\n",
       "    <tr>\n",
       "      <th>std</th>\n",
       "      <td>5523.607427</td>\n",
       "      <td>578.225892</td>\n",
       "      <td>0.500093</td>\n",
       "      <td>0.739195</td>\n",
       "      <td>7.209910</td>\n",
       "      <td>0.281388</td>\n",
       "      <td>4314.997495</td>\n",
       "      <td>1.072271</td>\n",
       "    </tr>\n",
       "    <tr>\n",
       "      <th>min</th>\n",
       "      <td>1.000000</td>\n",
       "      <td>1.000000</td>\n",
       "      <td>0.000000</td>\n",
       "      <td>1.000000</td>\n",
       "      <td>16.000000</td>\n",
       "      <td>0.000000</td>\n",
       "      <td>28350.700000</td>\n",
       "      <td>0.959838</td>\n",
       "    </tr>\n",
       "    <tr>\n",
       "      <th>25%</th>\n",
       "      <td>4736.000000</td>\n",
       "      <td>494.250000</td>\n",
       "      <td>0.000000</td>\n",
       "      <td>1.000000</td>\n",
       "      <td>25.240755</td>\n",
       "      <td>0.000000</td>\n",
       "      <td>40656.077500</td>\n",
       "      <td>2.265284</td>\n",
       "    </tr>\n",
       "    <tr>\n",
       "      <th>50%</th>\n",
       "      <td>9556.000000</td>\n",
       "      <td>996.500000</td>\n",
       "      <td>1.000000</td>\n",
       "      <td>1.000000</td>\n",
       "      <td>27.741000</td>\n",
       "      <td>0.000000</td>\n",
       "      <td>43507.930000</td>\n",
       "      <td>2.954948</td>\n",
       "    </tr>\n",
       "    <tr>\n",
       "      <th>75%</th>\n",
       "      <td>14316.750000</td>\n",
       "      <td>1497.750000</td>\n",
       "      <td>1.000000</td>\n",
       "      <td>2.000000</td>\n",
       "      <td>32.592740</td>\n",
       "      <td>0.000000</td>\n",
       "      <td>46571.037500</td>\n",
       "      <td>3.735709</td>\n",
       "    </tr>\n",
       "    <tr>\n",
       "      <th>max</th>\n",
       "      <td>19094.000000</td>\n",
       "      <td>2000.000000</td>\n",
       "      <td>1.000000</td>\n",
       "      <td>3.000000</td>\n",
       "      <td>61.313810</td>\n",
       "      <td>1.000000</td>\n",
       "      <td>57826.340000</td>\n",
       "      <td>5.992095</td>\n",
       "    </tr>\n",
       "  </tbody>\n",
       "</table>\n",
       "</div>"
      ],
      "text/plain": [
       "       Observation Number  Employee Id  Sex (Male=1)         Race  \\\n",
       "count         1962.000000  1962.000000   1955.000000  1742.000000   \n",
       "mean          9540.574924   997.279817      0.505882     1.596441   \n",
       "std           5523.607427   578.225892      0.500093     0.739195   \n",
       "min              1.000000     1.000000      0.000000     1.000000   \n",
       "25%           4736.000000   494.250000      0.000000     1.000000   \n",
       "50%           9556.000000   996.500000      1.000000     1.000000   \n",
       "75%          14316.750000  1497.750000      1.000000     2.000000   \n",
       "max          19094.000000  2000.000000      1.000000     3.000000   \n",
       "\n",
       "               Age  Hospital Visit This Quarter (1=Yes)        Salary  \\\n",
       "count  1959.000000                          1962.000000   1962.000000   \n",
       "mean     30.204803                             0.086646  43639.868935   \n",
       "std       7.209910                             0.281388   4314.997495   \n",
       "min      16.000000                             0.000000  28350.700000   \n",
       "25%      25.240755                             0.000000  40656.077500   \n",
       "50%      27.741000                             0.000000  43507.930000   \n",
       "75%      32.592740                             0.000000  46571.037500   \n",
       "max      61.313810                             1.000000  57826.340000   \n",
       "\n",
       "       HealthScore  \n",
       "count  1836.000000  \n",
       "mean      3.075195  \n",
       "std       1.072271  \n",
       "min       0.959838  \n",
       "25%       2.265284  \n",
       "50%       2.954948  \n",
       "75%       3.735709  \n",
       "max       5.992095  "
      ]
     },
     "execution_count": 117,
     "metadata": {},
     "output_type": "execute_result"
    }
   ],
   "source": [
    "people.describe()"
   ]
  },
  {
   "cell_type": "code",
   "execution_count": 125,
   "metadata": {},
   "outputs": [
    {
     "data": {
      "image/png": "[encoded data removed]",
      "text/plain": [
       "<matplotlib.figure.Figure at 0x1b98f80c7b8>"
      ]
     },
     "metadata": {},
     "output_type": "display_data"
    }
   ],
   "source": [
    "import matplotlib.pyplot as plt\n",
    "import seaborn as sns\n",
    "%matplotlib inline\n",
    "plt1=people['Sex (Male=1)'].value_counts(sort=False).plot.bar(title=\"Gender Description\")\n",
    "for p in plt1.patches:\n",
    "    plt1.annotate(str(p.get_height()), xy=(p.get_x(), p.get_height()))"
   ]
  },
  {
   "cell_type": "code",
   "execution_count": 123,
   "metadata": {},
   "outputs": [
    {
     "data": {
      "image/png": "[encoded data removed]",
      "text/plain": [
       "<matplotlib.figure.Figure at 0x1b9907abb00>"
      ]
     },
     "metadata": {},
     "output_type": "display_data"
    }
   ],
   "source": [
    "%matplotlib inline\n",
    "plt2=people['Race'].value_counts(sort=False).plot.bar(title=\"Race Description\")\n",
    "for p in plt2.patches:\n",
    "    plt2.annotate(str(p.get_height()), xy=(p.get_x(), p.get_height()))"
   ]
  },
  {
   "cell_type": "code",
   "execution_count": 120,
   "metadata": {},
   "outputs": [
    {
     "data": {
      "image/png": "[encoded data removed]",
      "text/plain": [
       "<matplotlib.figure.Figure at 0x1b990d89668>"
      ]
     },
     "metadata": {},
     "output_type": "display_data"
    }
   ],
   "source": [
    "from scipy.stats import norm\n",
    "%matplotlib inline\n",
    "mnVar=people['Age'].mean()\n",
    "mdVar=people['Age'].median()\n",
    "plt.figure(figsize=(5,5))\n",
    "sns.distplot(people['Age'].dropna(),kde=False,fit=norm)\n",
    "plt.title('How is the age shaped')\n",
    "plt.axvline(mnVar, color='b', linestyle='dashed', linewidth=2,label='mean')\n",
    "plt.axvline(mdVar, color='r', linestyle='dashed', linewidth=2,label='median')\n",
    "plt.legend()\n",
    "plt.show()"
   ]
  },
  {
   "cell_type": "code",
   "execution_count": 176,
   "metadata": {},
   "outputs": [
    {
     "data": {
      "image/png": "[encoded data removed]",
      "text/plain": [
       "<matplotlib.figure.Figure at 0x1b990dc1b00>"
      ]
     },
     "metadata": {},
     "output_type": "display_data"
    }
   ],
   "source": [
    "from scipy.stats import norm\n",
    "%matplotlib inline\n",
    "mnVar=people['Salary'].mean()\n",
    "mdVar=people['Salary'].median()\n",
    "plt.figure(figsize=(5,5))\n",
    "sns.distplot(people['Salary'].dropna(),kde=False,fit=norm)\n",
    "plt.title('How is the Salary shaped')\n",
    "plt.axvline(mnVar, color='b', linestyle='dashed', linewidth=2,label='mean')\n",
    "plt.axvline(mdVar, color='r', linestyle='dashed', linewidth=2,label='median')\n",
    "plt.legend()\n",
    "plt.show()"
   ]
  },
  {
   "cell_type": "code",
   "execution_count": 177,
   "metadata": {},
   "outputs": [],
   "source": [
    "people1=acumen2.loc[acumen2['Quarter'] == 1]"
   ]
  },
  {
   "cell_type": "code",
   "execution_count": 178,
   "metadata": {},
   "outputs": [
    {
     "data": {
      "text/html": [
       "<div>\n",
       "<style scoped>\n",
       "    .dataframe tbody tr th:only-of-type {\n",
       "        vertical-align: middle;\n",
       "    }\n",
       "\n",
       "    .dataframe tbody tr th {\n",
       "        vertical-align: top;\n",
       "    }\n",
       "\n",
       "    .dataframe thead th {\n",
       "        text-align: right;\n",
       "    }\n",
       "</style>\n",
       "<table border=\"1\" class=\"dataframe\">\n",
       "  <thead>\n",
       "    <tr style=\"text-align: right;\">\n",
       "      <th></th>\n",
       "      <th>Observation Number</th>\n",
       "      <th>Employee Id</th>\n",
       "      <th>Sex (Male=1)</th>\n",
       "      <th>Age</th>\n",
       "      <th>Hospital Visit This Quarter (1=Yes)</th>\n",
       "      <th>Salary</th>\n",
       "      <th>HealthScore</th>\n",
       "    </tr>\n",
       "  </thead>\n",
       "  <tbody>\n",
       "    <tr>\n",
       "      <th>count</th>\n",
       "      <td>684.000000</td>\n",
       "      <td>684.000000</td>\n",
       "      <td>682.000000</td>\n",
       "      <td>684.000000</td>\n",
       "      <td>684.000000</td>\n",
       "      <td>684.000000</td>\n",
       "      <td>636.000000</td>\n",
       "    </tr>\n",
       "    <tr>\n",
       "      <th>mean</th>\n",
       "      <td>9438.654971</td>\n",
       "      <td>986.662281</td>\n",
       "      <td>0.485337</td>\n",
       "      <td>28.836859</td>\n",
       "      <td>0.074561</td>\n",
       "      <td>43627.952529</td>\n",
       "      <td>2.930554</td>\n",
       "    </tr>\n",
       "    <tr>\n",
       "      <th>std</th>\n",
       "      <td>5397.787325</td>\n",
       "      <td>565.138971</td>\n",
       "      <td>0.500152</td>\n",
       "      <td>6.446043</td>\n",
       "      <td>0.262875</td>\n",
       "      <td>4282.299704</td>\n",
       "      <td>1.046198</td>\n",
       "    </tr>\n",
       "    <tr>\n",
       "      <th>min</th>\n",
       "      <td>1.000000</td>\n",
       "      <td>1.000000</td>\n",
       "      <td>0.000000</td>\n",
       "      <td>17.000000</td>\n",
       "      <td>0.000000</td>\n",
       "      <td>30250.050000</td>\n",
       "      <td>1.018245</td>\n",
       "    </tr>\n",
       "    <tr>\n",
       "      <th>25%</th>\n",
       "      <td>4930.000000</td>\n",
       "      <td>514.250000</td>\n",
       "      <td>0.000000</td>\n",
       "      <td>24.395100</td>\n",
       "      <td>0.000000</td>\n",
       "      <td>40881.372500</td>\n",
       "      <td>2.116073</td>\n",
       "    </tr>\n",
       "    <tr>\n",
       "      <th>50%</th>\n",
       "      <td>9279.500000</td>\n",
       "      <td>970.000000</td>\n",
       "      <td>0.000000</td>\n",
       "      <td>26.609005</td>\n",
       "      <td>0.000000</td>\n",
       "      <td>43611.740000</td>\n",
       "      <td>2.783333</td>\n",
       "    </tr>\n",
       "    <tr>\n",
       "      <th>75%</th>\n",
       "      <td>13971.750000</td>\n",
       "      <td>1461.250000</td>\n",
       "      <td>1.000000</td>\n",
       "      <td>30.952070</td>\n",
       "      <td>0.000000</td>\n",
       "      <td>46353.547500</td>\n",
       "      <td>3.666218</td>\n",
       "    </tr>\n",
       "    <tr>\n",
       "      <th>max</th>\n",
       "      <td>19075.000000</td>\n",
       "      <td>1998.000000</td>\n",
       "      <td>1.000000</td>\n",
       "      <td>52.742990</td>\n",
       "      <td>1.000000</td>\n",
       "      <td>57826.340000</td>\n",
       "      <td>5.990683</td>\n",
       "    </tr>\n",
       "  </tbody>\n",
       "</table>\n",
       "</div>"
      ],
      "text/plain": [
       "       Observation Number  Employee Id  Sex (Male=1)         Age  \\\n",
       "count          684.000000   684.000000    682.000000  684.000000   \n",
       "mean          9438.654971   986.662281      0.485337   28.836859   \n",
       "std           5397.787325   565.138971      0.500152    6.446043   \n",
       "min              1.000000     1.000000      0.000000   17.000000   \n",
       "25%           4930.000000   514.250000      0.000000   24.395100   \n",
       "50%           9279.500000   970.000000      0.000000   26.609005   \n",
       "75%          13971.750000  1461.250000      1.000000   30.952070   \n",
       "max          19075.000000  1998.000000      1.000000   52.742990   \n",
       "\n",
       "       Hospital Visit This Quarter (1=Yes)        Salary  HealthScore  \n",
       "count                           684.000000    684.000000   636.000000  \n",
       "mean                              0.074561  43627.952529     2.930554  \n",
       "std                               0.262875   4282.299704     1.046198  \n",
       "min                               0.000000  30250.050000     1.018245  \n",
       "25%                               0.000000  40881.372500     2.116073  \n",
       "50%                               0.000000  43611.740000     2.783333  \n",
       "75%                               0.000000  46353.547500     3.666218  \n",
       "max                               1.000000  57826.340000     5.990683  "
      ]
     },
     "execution_count": 178,
     "metadata": {},
     "output_type": "execute_result"
    }
   ],
   "source": [
    "people1.describe()"
   ]
  },
  {
   "cell_type": "code",
   "execution_count": 181,
   "metadata": {},
   "outputs": [],
   "source": [
    "people6=acumen2.loc[acumen2['Quarter'] == 6]"
   ]
  },
  {
   "cell_type": "code",
   "execution_count": 182,
   "metadata": {},
   "outputs": [
    {
     "data": {
      "text/html": [
       "<div>\n",
       "<style scoped>\n",
       "    .dataframe tbody tr th:only-of-type {\n",
       "        vertical-align: middle;\n",
       "    }\n",
       "\n",
       "    .dataframe tbody tr th {\n",
       "        vertical-align: top;\n",
       "    }\n",
       "\n",
       "    .dataframe thead th {\n",
       "        text-align: right;\n",
       "    }\n",
       "</style>\n",
       "<table border=\"1\" class=\"dataframe\">\n",
       "  <thead>\n",
       "    <tr style=\"text-align: right;\">\n",
       "      <th></th>\n",
       "      <th>Observation Number</th>\n",
       "      <th>Employee Id</th>\n",
       "      <th>Sex (Male=1)</th>\n",
       "      <th>Age</th>\n",
       "      <th>Hospital Visit This Quarter (1=Yes)</th>\n",
       "      <th>Salary</th>\n",
       "      <th>HealthScore</th>\n",
       "    </tr>\n",
       "  </thead>\n",
       "  <tbody>\n",
       "    <tr>\n",
       "      <th>count</th>\n",
       "      <td>1775.000000</td>\n",
       "      <td>1775.000000</td>\n",
       "      <td>1768.000000</td>\n",
       "      <td>1772.000000</td>\n",
       "      <td>1775.000000</td>\n",
       "      <td>1775.000000</td>\n",
       "      <td>1661.000000</td>\n",
       "    </tr>\n",
       "    <tr>\n",
       "      <th>mean</th>\n",
       "      <td>9564.188732</td>\n",
       "      <td>999.429296</td>\n",
       "      <td>0.510181</td>\n",
       "      <td>29.809862</td>\n",
       "      <td>0.100845</td>\n",
       "      <td>46948.069746</td>\n",
       "      <td>3.095274</td>\n",
       "    </tr>\n",
       "    <tr>\n",
       "      <th>std</th>\n",
       "      <td>5525.528022</td>\n",
       "      <td>578.460889</td>\n",
       "      <td>0.500038</td>\n",
       "      <td>5.741229</td>\n",
       "      <td>0.301208</td>\n",
       "      <td>4601.348751</td>\n",
       "      <td>1.072077</td>\n",
       "    </tr>\n",
       "    <tr>\n",
       "      <th>min</th>\n",
       "      <td>6.000000</td>\n",
       "      <td>1.000000</td>\n",
       "      <td>0.000000</td>\n",
       "      <td>16.000000</td>\n",
       "      <td>0.000000</td>\n",
       "      <td>31300.630000</td>\n",
       "      <td>0.832279</td>\n",
       "    </tr>\n",
       "    <tr>\n",
       "      <th>25%</th>\n",
       "      <td>4788.000000</td>\n",
       "      <td>499.500000</td>\n",
       "      <td>0.000000</td>\n",
       "      <td>26.037708</td>\n",
       "      <td>0.000000</td>\n",
       "      <td>43713.410000</td>\n",
       "      <td>2.267217</td>\n",
       "    </tr>\n",
       "    <tr>\n",
       "      <th>50%</th>\n",
       "      <td>9567.000000</td>\n",
       "      <td>997.000000</td>\n",
       "      <td>1.000000</td>\n",
       "      <td>28.103110</td>\n",
       "      <td>0.000000</td>\n",
       "      <td>46914.930000</td>\n",
       "      <td>2.940854</td>\n",
       "    </tr>\n",
       "    <tr>\n",
       "      <th>75%</th>\n",
       "      <td>14359.000000</td>\n",
       "      <td>1501.500000</td>\n",
       "      <td>1.000000</td>\n",
       "      <td>31.402405</td>\n",
       "      <td>0.000000</td>\n",
       "      <td>50111.760000</td>\n",
       "      <td>3.809184</td>\n",
       "    </tr>\n",
       "    <tr>\n",
       "      <th>max</th>\n",
       "      <td>19097.000000</td>\n",
       "      <td>2000.000000</td>\n",
       "      <td>1.000000</td>\n",
       "      <td>58.997180</td>\n",
       "      <td>1.000000</td>\n",
       "      <td>62826.340000</td>\n",
       "      <td>5.992095</td>\n",
       "    </tr>\n",
       "  </tbody>\n",
       "</table>\n",
       "</div>"
      ],
      "text/plain": [
       "       Observation Number  Employee Id  Sex (Male=1)          Age  \\\n",
       "count         1775.000000  1775.000000   1768.000000  1772.000000   \n",
       "mean          9564.188732   999.429296      0.510181    29.809862   \n",
       "std           5525.528022   578.460889      0.500038     5.741229   \n",
       "min              6.000000     1.000000      0.000000    16.000000   \n",
       "25%           4788.000000   499.500000      0.000000    26.037708   \n",
       "50%           9567.000000   997.000000      1.000000    28.103110   \n",
       "75%          14359.000000  1501.500000      1.000000    31.402405   \n",
       "max          19097.000000  2000.000000      1.000000    58.997180   \n",
       "\n",
       "       Hospital Visit This Quarter (1=Yes)        Salary  HealthScore  \n",
       "count                          1775.000000   1775.000000  1661.000000  \n",
       "mean                              0.100845  46948.069746     3.095274  \n",
       "std                               0.301208   4601.348751     1.072077  \n",
       "min                               0.000000  31300.630000     0.832279  \n",
       "25%                               0.000000  43713.410000     2.267217  \n",
       "50%                               0.000000  46914.930000     2.940854  \n",
       "75%                               0.000000  50111.760000     3.809184  \n",
       "max                               1.000000  62826.340000     5.992095  "
      ]
     },
     "execution_count": 182,
     "metadata": {},
     "output_type": "execute_result"
    }
   ],
   "source": [
    "people6.describe()"
   ]
  },
  {
   "cell_type": "code",
   "execution_count": 183,
   "metadata": {},
   "outputs": [],
   "source": [
    "people12=acumen2.loc[acumen2['Quarter'] == 12]"
   ]
  },
  {
   "cell_type": "code",
   "execution_count": 185,
   "metadata": {},
   "outputs": [
    {
     "data": {
      "text/html": [
       "<div>\n",
       "<style scoped>\n",
       "    .dataframe tbody tr th:only-of-type {\n",
       "        vertical-align: middle;\n",
       "    }\n",
       "\n",
       "    .dataframe tbody tr th {\n",
       "        vertical-align: top;\n",
       "    }\n",
       "\n",
       "    .dataframe thead th {\n",
       "        text-align: right;\n",
       "    }\n",
       "</style>\n",
       "<table border=\"1\" class=\"dataframe\">\n",
       "  <thead>\n",
       "    <tr style=\"text-align: right;\">\n",
       "      <th></th>\n",
       "      <th>Observation Number</th>\n",
       "      <th>Employee Id</th>\n",
       "      <th>Sex (Male=1)</th>\n",
       "      <th>Age</th>\n",
       "      <th>Hospital Visit This Quarter (1=Yes)</th>\n",
       "      <th>Salary</th>\n",
       "      <th>HealthScore</th>\n",
       "    </tr>\n",
       "  </thead>\n",
       "  <tbody>\n",
       "    <tr>\n",
       "      <th>count</th>\n",
       "      <td>1962.000000</td>\n",
       "      <td>1962.000000</td>\n",
       "      <td>1955.000000</td>\n",
       "      <td>1960.000000</td>\n",
       "      <td>1962.000000</td>\n",
       "      <td>1962.000000</td>\n",
       "      <td>1800.000000</td>\n",
       "    </tr>\n",
       "    <tr>\n",
       "      <th>mean</th>\n",
       "      <td>9549.311417</td>\n",
       "      <td>997.279817</td>\n",
       "      <td>0.505882</td>\n",
       "      <td>32.473422</td>\n",
       "      <td>0.204383</td>\n",
       "      <td>52376.362299</td>\n",
       "      <td>3.303181</td>\n",
       "    </tr>\n",
       "    <tr>\n",
       "      <th>std</th>\n",
       "      <td>5523.619873</td>\n",
       "      <td>578.225892</td>\n",
       "      <td>0.500093</td>\n",
       "      <td>6.900353</td>\n",
       "      <td>0.403353</td>\n",
       "      <td>4925.359222</td>\n",
       "      <td>1.094215</td>\n",
       "    </tr>\n",
       "    <tr>\n",
       "      <th>min</th>\n",
       "      <td>12.000000</td>\n",
       "      <td>1.000000</td>\n",
       "      <td>0.000000</td>\n",
       "      <td>17.000000</td>\n",
       "      <td>0.000000</td>\n",
       "      <td>37172.530000</td>\n",
       "      <td>1.013779</td>\n",
       "    </tr>\n",
       "    <tr>\n",
       "      <th>25%</th>\n",
       "      <td>4745.250000</td>\n",
       "      <td>494.250000</td>\n",
       "      <td>0.000000</td>\n",
       "      <td>27.754640</td>\n",
       "      <td>0.000000</td>\n",
       "      <td>49117.745000</td>\n",
       "      <td>2.466600</td>\n",
       "    </tr>\n",
       "    <tr>\n",
       "      <th>50%</th>\n",
       "      <td>9567.000000</td>\n",
       "      <td>996.500000</td>\n",
       "      <td>1.000000</td>\n",
       "      <td>30.203005</td>\n",
       "      <td>0.000000</td>\n",
       "      <td>52439.560000</td>\n",
       "      <td>3.173978</td>\n",
       "    </tr>\n",
       "    <tr>\n",
       "      <th>75%</th>\n",
       "      <td>14325.000000</td>\n",
       "      <td>1497.750000</td>\n",
       "      <td>1.000000</td>\n",
       "      <td>34.600873</td>\n",
       "      <td>0.000000</td>\n",
       "      <td>55847.062500</td>\n",
       "      <td>4.075305</td>\n",
       "    </tr>\n",
       "    <tr>\n",
       "      <th>max</th>\n",
       "      <td>19103.000000</td>\n",
       "      <td>2000.000000</td>\n",
       "      <td>1.000000</td>\n",
       "      <td>61.852070</td>\n",
       "      <td>1.000000</td>\n",
       "      <td>68826.340000</td>\n",
       "      <td>5.993093</td>\n",
       "    </tr>\n",
       "  </tbody>\n",
       "</table>\n",
       "</div>"
      ],
      "text/plain": [
       "       Observation Number  Employee Id  Sex (Male=1)          Age  \\\n",
       "count         1962.000000  1962.000000   1955.000000  1960.000000   \n",
       "mean          9549.311417   997.279817      0.505882    32.473422   \n",
       "std           5523.619873   578.225892      0.500093     6.900353   \n",
       "min             12.000000     1.000000      0.000000    17.000000   \n",
       "25%           4745.250000   494.250000      0.000000    27.754640   \n",
       "50%           9567.000000   996.500000      1.000000    30.203005   \n",
       "75%          14325.000000  1497.750000      1.000000    34.600873   \n",
       "max          19103.000000  2000.000000      1.000000    61.852070   \n",
       "\n",
       "       Hospital Visit This Quarter (1=Yes)        Salary  HealthScore  \n",
       "count                          1962.000000   1962.000000  1800.000000  \n",
       "mean                              0.204383  52376.362299     3.303181  \n",
       "std                               0.403353   4925.359222     1.094215  \n",
       "min                               0.000000  37172.530000     1.013779  \n",
       "25%                               0.000000  49117.745000     2.466600  \n",
       "50%                               0.000000  52439.560000     3.173978  \n",
       "75%                               0.000000  55847.062500     4.075305  \n",
       "max                               1.000000  68826.340000     5.993093  "
      ]
     },
     "execution_count": 185,
     "metadata": {},
     "output_type": "execute_result"
    }
   ],
   "source": [
    "people12.describe()"
   ]
  },
  {
   "cell_type": "code",
   "execution_count": 170,
   "metadata": {},
   "outputs": [],
   "source": [
    "from pandas.api.types import CategoricalDtype\n",
    "acumen2['Quarter']=acumen2['Quarter'].astype(CategoricalDtype(ordered=True))"
   ]
  },
  {
   "cell_type": "code",
   "execution_count": 171,
   "metadata": {},
   "outputs": [],
   "source": [
    "acumen2['Race']=acumen2['Race'].astype(CategoricalDtype(ordered=False))"
   ]
  },
  {
   "cell_type": "code",
   "execution_count": 172,
   "metadata": {},
   "outputs": [],
   "source": [
    "acumen3=acumen2.rename(index=str, columns={\"Health Score\": \"HealthScore\", \"Sex (Male=1)\": \"Sex\", 'Hospital Visit This Quarter (1=Yes)':'HospitalVisit'})"
   ]
  },
  {
   "cell_type": "code",
   "execution_count": 173,
   "metadata": {},
   "outputs": [
    {
     "data": {
      "text/html": [
       "<div>\n",
       "<style scoped>\n",
       "    .dataframe tbody tr th:only-of-type {\n",
       "        vertical-align: middle;\n",
       "    }\n",
       "\n",
       "    .dataframe tbody tr th {\n",
       "        vertical-align: top;\n",
       "    }\n",
       "\n",
       "    .dataframe thead th {\n",
       "        text-align: right;\n",
       "    }\n",
       "</style>\n",
       "<table border=\"1\" class=\"dataframe\">\n",
       "  <thead>\n",
       "    <tr style=\"text-align: right;\">\n",
       "      <th></th>\n",
       "      <th>Observation Number</th>\n",
       "      <th>Employee Id</th>\n",
       "      <th>Sex</th>\n",
       "      <th>Age</th>\n",
       "      <th>HospitalVisit</th>\n",
       "      <th>Salary</th>\n",
       "      <th>HealthScore</th>\n",
       "    </tr>\n",
       "  </thead>\n",
       "  <tbody>\n",
       "    <tr>\n",
       "      <th>Observation Number</th>\n",
       "      <td>1.000000</td>\n",
       "      <td>0.999976</td>\n",
       "      <td>-0.009964</td>\n",
       "      <td>0.000136</td>\n",
       "      <td>-0.005663</td>\n",
       "      <td>0.002459</td>\n",
       "      <td>-0.011122</td>\n",
       "    </tr>\n",
       "    <tr>\n",
       "      <th>Employee Id</th>\n",
       "      <td>0.999976</td>\n",
       "      <td>1.000000</td>\n",
       "      <td>-0.009651</td>\n",
       "      <td>0.000027</td>\n",
       "      <td>-0.005693</td>\n",
       "      <td>0.002338</td>\n",
       "      <td>-0.011035</td>\n",
       "    </tr>\n",
       "    <tr>\n",
       "      <th>Sex</th>\n",
       "      <td>-0.009964</td>\n",
       "      <td>-0.009651</td>\n",
       "      <td>1.000000</td>\n",
       "      <td>0.007421</td>\n",
       "      <td>0.004044</td>\n",
       "      <td>0.474199</td>\n",
       "      <td>0.137008</td>\n",
       "    </tr>\n",
       "    <tr>\n",
       "      <th>Age</th>\n",
       "      <td>0.000136</td>\n",
       "      <td>0.000027</td>\n",
       "      <td>0.007421</td>\n",
       "      <td>1.000000</td>\n",
       "      <td>0.013244</td>\n",
       "      <td>0.013770</td>\n",
       "      <td>0.258050</td>\n",
       "    </tr>\n",
       "    <tr>\n",
       "      <th>HospitalVisit</th>\n",
       "      <td>-0.005663</td>\n",
       "      <td>-0.005693</td>\n",
       "      <td>0.004044</td>\n",
       "      <td>0.013244</td>\n",
       "      <td>1.000000</td>\n",
       "      <td>0.035286</td>\n",
       "      <td>0.195466</td>\n",
       "    </tr>\n",
       "    <tr>\n",
       "      <th>Salary</th>\n",
       "      <td>0.002459</td>\n",
       "      <td>0.002338</td>\n",
       "      <td>0.474199</td>\n",
       "      <td>0.013770</td>\n",
       "      <td>0.035286</td>\n",
       "      <td>1.000000</td>\n",
       "      <td>0.075763</td>\n",
       "    </tr>\n",
       "    <tr>\n",
       "      <th>HealthScore</th>\n",
       "      <td>-0.011122</td>\n",
       "      <td>-0.011035</td>\n",
       "      <td>0.137008</td>\n",
       "      <td>0.258050</td>\n",
       "      <td>0.195466</td>\n",
       "      <td>0.075763</td>\n",
       "      <td>1.000000</td>\n",
       "    </tr>\n",
       "  </tbody>\n",
       "</table>\n",
       "</div>"
      ],
      "text/plain": [
       "                    Observation Number  Employee Id       Sex       Age  \\\n",
       "Observation Number            1.000000     0.999976 -0.009964  0.000136   \n",
       "Employee Id                   0.999976     1.000000 -0.009651  0.000027   \n",
       "Sex                          -0.009964    -0.009651  1.000000  0.007421   \n",
       "Age                           0.000136     0.000027  0.007421  1.000000   \n",
       "HospitalVisit                -0.005663    -0.005693  0.004044  0.013244   \n",
       "Salary                        0.002459     0.002338  0.474199  0.013770   \n",
       "HealthScore                  -0.011122    -0.011035  0.137008  0.258050   \n",
       "\n",
       "                    HospitalVisit    Salary  HealthScore  \n",
       "Observation Number      -0.005663  0.002459    -0.011122  \n",
       "Employee Id             -0.005693  0.002338    -0.011035  \n",
       "Sex                      0.004044  0.474199     0.137008  \n",
       "Age                      0.013244  0.013770     0.258050  \n",
       "HospitalVisit            1.000000  0.035286     0.195466  \n",
       "Salary                   0.035286  1.000000     0.075763  \n",
       "HealthScore              0.195466  0.075763     1.000000  "
      ]
     },
     "execution_count": 173,
     "metadata": {},
     "output_type": "execute_result"
    }
   ],
   "source": [
    "acumen3.corr()"
   ]
  },
  {
   "cell_type": "code",
   "execution_count": 135,
   "metadata": {},
   "outputs": [
    {
     "name": "stderr",
     "output_type": "stream",
     "text": [
      "D:\\MPA\\Anaconda\\lib\\site-packages\\seaborn\\categorical.py:462: FutureWarning: remove_na is deprecated and is a private function. Do not use.\n",
      "  box_data = remove_na(group_data)\n"
     ]
    },
    {
     "data": {
      "text/plain": [
       "<matplotlib.axes._subplots.AxesSubplot at 0x1b9951912b0>"
      ]
     },
     "execution_count": 135,
     "metadata": {},
     "output_type": "execute_result"
    },
    {
     "data": {
      "image/png": "[encoded data removed]",
      "text/plain": [
       "<matplotlib.figure.Figure at 0x1b994daa668>"
      ]
     },
     "metadata": {},
     "output_type": "display_data"
    }
   ],
   "source": [
    "sns.boxplot(x=\"Sex (Male=1)\", y=\"HealthScore\", data=acumen2)"
   ]
  },
  {
   "cell_type": "code",
   "execution_count": 138,
   "metadata": {},
   "outputs": [
    {
     "name": "stderr",
     "output_type": "stream",
     "text": [
      "D:\\MPA\\Anaconda\\lib\\site-packages\\seaborn\\categorical.py:1460: FutureWarning: remove_na is deprecated and is a private function. Do not use.\n",
      "  stat_data = remove_na(group_data)\n"
     ]
    },
    {
     "data": {
      "text/plain": [
       "<seaborn.axisgrid.FacetGrid at 0x1b9908a5c50>"
      ]
     },
     "execution_count": 138,
     "metadata": {},
     "output_type": "execute_result"
    },
    {
     "data": {
      "image/png": "[encoded data removed]",
      "text/plain": [
       "<matplotlib.figure.Figure at 0x1b990d7e588>"
      ]
     },
     "metadata": {},
     "output_type": "display_data"
    }
   ],
   "source": [
    "sns.factorplot(x=\"Sex (Male=1)\", y=\"HealthScore\", data=acumen2)"
   ]
  },
  {
   "cell_type": "code",
   "execution_count": 136,
   "metadata": {},
   "outputs": [
    {
     "name": "stderr",
     "output_type": "stream",
     "text": [
      "D:\\MPA\\Anaconda\\lib\\site-packages\\seaborn\\categorical.py:462: FutureWarning: remove_na is deprecated and is a private function. Do not use.\n",
      "  box_data = remove_na(group_data)\n"
     ]
    },
    {
     "data": {
      "text/plain": [
       "<matplotlib.axes._subplots.AxesSubplot at 0x1b98f7cfba8>"
      ]
     },
     "execution_count": 136,
     "metadata": {},
     "output_type": "execute_result"
    },
    {
     "data": {
      "image/png": "[encoded data removed]",
      "text/plain": [
       "<matplotlib.figure.Figure at 0x1b990a5ba58>"
      ]
     },
     "metadata": {},
     "output_type": "display_data"
    }
   ],
   "source": [
    "sns.boxplot(x=\"Quarter\", y=\"HealthScore\", data=acumen2)"
   ]
  },
  {
   "cell_type": "code",
   "execution_count": 139,
   "metadata": {},
   "outputs": [
    {
     "name": "stderr",
     "output_type": "stream",
     "text": [
      "D:\\MPA\\Anaconda\\lib\\site-packages\\seaborn\\categorical.py:1460: FutureWarning: remove_na is deprecated and is a private function. Do not use.\n",
      "  stat_data = remove_na(group_data)\n"
     ]
    },
    {
     "data": {
      "text/plain": [
       "<seaborn.axisgrid.FacetGrid at 0x1b990d5c710>"
      ]
     },
     "execution_count": 139,
     "metadata": {},
     "output_type": "execute_result"
    },
    {
     "data": {
      "image/png": "[encoded data removed]",
      "text/plain": [
       "<matplotlib.figure.Figure at 0x1b990a0e3c8>"
      ]
     },
     "metadata": {},
     "output_type": "display_data"
    }
   ],
   "source": [
    "sns.factorplot(x=\"Quarter\", y=\"HealthScore\", data=acumen2)"
   ]
  },
  {
   "cell_type": "code",
   "execution_count": 174,
   "metadata": {},
   "outputs": [
    {
     "name": "stdout",
     "output_type": "stream",
     "text": [
      "                            OLS Regression Results                            \n",
      "==============================================================================\n",
      "Dep. Variable:            HealthScore   R-squared:                       0.121\n",
      "Model:                            OLS   Adj. R-squared:                  0.120\n",
      "Method:                 Least Squares   F-statistic:                     127.9\n",
      "Date:                Sat, 21 Apr 2018   Prob (F-statistic):               0.00\n",
      "Time:                        12:52:04   Log-Likelihood:                -22719.\n",
      "No. Observations:               15869   AIC:                         4.547e+04\n",
      "Df Residuals:                   15851   BIC:                         4.561e+04\n",
      "Df Model:                          17                                         \n",
      "Covariance Type:            nonrobust                                         \n",
      "=================================================================================\n",
      "                    coef    std err          t      P>|t|      [0.025      0.975]\n",
      "---------------------------------------------------------------------------------\n",
      "Intercept         1.6757      0.117     14.369      0.000       1.447       1.904\n",
      "Quarter[T.2]      0.1091      0.057      1.921      0.055      -0.002       0.220\n",
      "Quarter[T.3]      0.0855      0.054      1.583      0.113      -0.020       0.191\n",
      "Quarter[T.4]      0.1034      0.052      1.995      0.046       0.002       0.205\n",
      "Quarter[T.5]      0.0866      0.051      1.701      0.089      -0.013       0.186\n",
      "Quarter[T.6]      0.1032      0.051      2.033      0.042       0.004       0.203\n",
      "Quarter[T.7]      0.1498      0.051      2.947      0.003       0.050       0.249\n",
      "Quarter[T.8]      0.0814      0.051      1.589      0.112      -0.019       0.182\n",
      "Quarter[T.9]      0.0904      0.052      1.747      0.081      -0.011       0.192\n",
      "Quarter[T.10]     0.0687      0.052      1.316      0.188      -0.034       0.171\n",
      "Quarter[T.11]     0.1400      0.053      2.644      0.008       0.036       0.244\n",
      "Quarter[T.12]     0.1321      0.054      2.447      0.014       0.026       0.238\n",
      "Race[T.2.0]      -0.0433      0.020     -2.189      0.029      -0.082      -0.005\n",
      "Race[T.3.0]      -0.0764      0.024     -3.152      0.002      -0.124      -0.029\n",
      "Sex               0.3164      0.020     15.869      0.000       0.277       0.355\n",
      "Age               0.0435      0.001     32.496      0.000       0.041       0.046\n",
      "HospitalVisit     0.6588      0.026     25.309      0.000       0.608       0.710\n",
      "Salary        -3.286e-06   2.25e-06     -1.457      0.145    -7.7e-06    1.13e-06\n",
      "==============================================================================\n",
      "Omnibus:                      875.421   Durbin-Watson:                   2.002\n",
      "Prob(Omnibus):                  0.000   Jarque-Bera (JB):              955.620\n",
      "Skew:                           0.577   Prob(JB):                    3.09e-208\n",
      "Kurtosis:                       2.660   Cond. No.                     9.12e+05\n",
      "==============================================================================\n",
      "\n",
      "Warnings:\n",
      "[1] Standard Errors assume that the covariance matrix of the errors is correctly specified.\n",
      "[2] The condition number is large, 9.12e+05. This might indicate that there are\n",
      "strong multicollinearity or other numerical problems.\n"
     ]
    }
   ],
   "source": [
    "import statsmodels.formula.api as smf\n",
    "\n",
    "formula='HealthScore ~ Quarter+Sex+Race+Age+HospitalVisit+Salary'\n",
    "LinRegEPI = smf.ols(formula, data=acumen3).fit()\n",
    "print(LinRegEPI.summary())"
   ]
  },
  {
   "cell_type": "code",
   "execution_count": 175,
   "metadata": {},
   "outputs": [
    {
     "data": {
      "text/html": [
       "<div>\n",
       "<style scoped>\n",
       "    .dataframe tbody tr th:only-of-type {\n",
       "        vertical-align: middle;\n",
       "    }\n",
       "\n",
       "    .dataframe tbody tr th {\n",
       "        vertical-align: top;\n",
       "    }\n",
       "\n",
       "    .dataframe thead th {\n",
       "        text-align: right;\n",
       "    }\n",
       "</style>\n",
       "<table border=\"1\" class=\"dataframe\">\n",
       "  <thead>\n",
       "    <tr style=\"text-align: right;\">\n",
       "      <th></th>\n",
       "      <th>Coefficients</th>\n",
       "      <th>Significant?</th>\n",
       "    </tr>\n",
       "  </thead>\n",
       "  <tbody>\n",
       "    <tr>\n",
       "      <th>Intercept</th>\n",
       "      <td>1.675702</td>\n",
       "      <td>True</td>\n",
       "    </tr>\n",
       "    <tr>\n",
       "      <th>Quarter[T.2]</th>\n",
       "      <td>0.109087</td>\n",
       "      <td>False</td>\n",
       "    </tr>\n",
       "    <tr>\n",
       "      <th>Quarter[T.3]</th>\n",
       "      <td>0.085496</td>\n",
       "      <td>False</td>\n",
       "    </tr>\n",
       "    <tr>\n",
       "      <th>Quarter[T.4]</th>\n",
       "      <td>0.103441</td>\n",
       "      <td>True</td>\n",
       "    </tr>\n",
       "    <tr>\n",
       "      <th>Quarter[T.5]</th>\n",
       "      <td>0.086584</td>\n",
       "      <td>False</td>\n",
       "    </tr>\n",
       "    <tr>\n",
       "      <th>Quarter[T.6]</th>\n",
       "      <td>0.103223</td>\n",
       "      <td>True</td>\n",
       "    </tr>\n",
       "    <tr>\n",
       "      <th>Quarter[T.7]</th>\n",
       "      <td>0.149826</td>\n",
       "      <td>True</td>\n",
       "    </tr>\n",
       "    <tr>\n",
       "      <th>Quarter[T.8]</th>\n",
       "      <td>0.081408</td>\n",
       "      <td>False</td>\n",
       "    </tr>\n",
       "    <tr>\n",
       "      <th>Quarter[T.9]</th>\n",
       "      <td>0.090366</td>\n",
       "      <td>False</td>\n",
       "    </tr>\n",
       "    <tr>\n",
       "      <th>Quarter[T.10]</th>\n",
       "      <td>0.068749</td>\n",
       "      <td>False</td>\n",
       "    </tr>\n",
       "    <tr>\n",
       "      <th>Quarter[T.11]</th>\n",
       "      <td>0.139990</td>\n",
       "      <td>True</td>\n",
       "    </tr>\n",
       "    <tr>\n",
       "      <th>Quarter[T.12]</th>\n",
       "      <td>0.132081</td>\n",
       "      <td>True</td>\n",
       "    </tr>\n",
       "    <tr>\n",
       "      <th>Race[T.2.0]</th>\n",
       "      <td>-0.043252</td>\n",
       "      <td>True</td>\n",
       "    </tr>\n",
       "    <tr>\n",
       "      <th>Race[T.3.0]</th>\n",
       "      <td>-0.076411</td>\n",
       "      <td>True</td>\n",
       "    </tr>\n",
       "    <tr>\n",
       "      <th>Sex</th>\n",
       "      <td>0.316369</td>\n",
       "      <td>True</td>\n",
       "    </tr>\n",
       "    <tr>\n",
       "      <th>Age</th>\n",
       "      <td>0.043512</td>\n",
       "      <td>True</td>\n",
       "    </tr>\n",
       "    <tr>\n",
       "      <th>HospitalVisit</th>\n",
       "      <td>0.658815</td>\n",
       "      <td>True</td>\n",
       "    </tr>\n",
       "    <tr>\n",
       "      <th>Salary</th>\n",
       "      <td>-0.000003</td>\n",
       "      <td>False</td>\n",
       "    </tr>\n",
       "  </tbody>\n",
       "</table>\n",
       "</div>"
      ],
      "text/plain": [
       "               Coefficients  Significant?\n",
       "Intercept          1.675702          True\n",
       "Quarter[T.2]       0.109087         False\n",
       "Quarter[T.3]       0.085496         False\n",
       "Quarter[T.4]       0.103441          True\n",
       "Quarter[T.5]       0.086584         False\n",
       "Quarter[T.6]       0.103223          True\n",
       "Quarter[T.7]       0.149826          True\n",
       "Quarter[T.8]       0.081408         False\n",
       "Quarter[T.9]       0.090366         False\n",
       "Quarter[T.10]      0.068749         False\n",
       "Quarter[T.11]      0.139990          True\n",
       "Quarter[T.12]      0.132081          True\n",
       "Race[T.2.0]       -0.043252          True\n",
       "Race[T.3.0]       -0.076411          True\n",
       "Sex                0.316369          True\n",
       "Age                0.043512          True\n",
       "HospitalVisit      0.658815          True\n",
       "Salary            -0.000003         False"
      ]
     },
     "execution_count": 175,
     "metadata": {},
     "output_type": "execute_result"
    }
   ],
   "source": [
    "pd.concat({'Coefficients':LinRegEPI.params,\n",
    "           'Significant?':LinRegEPI.pvalues<0.05},axis=1)"
   ]
  },
  {
   "cell_type": "code",
   "execution_count": 137,
   "metadata": {},
   "outputs": [
    {
     "name": "stderr",
     "output_type": "stream",
     "text": [
      "D:\\MPA\\Anaconda\\lib\\site-packages\\seaborn\\categorical.py:462: FutureWarning: remove_na is deprecated and is a private function. Do not use.\n",
      "  box_data = remove_na(group_data)\n"
     ]
    },
    {
     "data": {
      "text/plain": [
       "<matplotlib.axes._subplots.AxesSubplot at 0x1b990979c18>"
      ]
     },
     "execution_count": 137,
     "metadata": {},
     "output_type": "execute_result"
    },
    {
     "data": {
      "image/png": "[encoded data removed]",
      "text/plain": [
       "<matplotlib.figure.Figure at 0x1b99519e0f0>"
      ]
     },
     "metadata": {},
     "output_type": "display_data"
    }
   ],
   "source": [
    "sns.boxplot(x=\"Race\", y=\"HealthScore\", data=acumen2)"
   ]
  },
  {
   "cell_type": "code",
   "execution_count": 140,
   "metadata": {},
   "outputs": [
    {
     "name": "stderr",
     "output_type": "stream",
     "text": [
      "D:\\MPA\\Anaconda\\lib\\site-packages\\seaborn\\categorical.py:1460: FutureWarning: remove_na is deprecated and is a private function. Do not use.\n",
      "  stat_data = remove_na(group_data)\n"
     ]
    },
    {
     "data": {
      "text/plain": [
       "<seaborn.axisgrid.FacetGrid at 0x1b98f6e0470>"
      ]
     },
     "execution_count": 140,
     "metadata": {},
     "output_type": "execute_result"
    },
    {
     "data": {
      "image/png": "[encoded data removed]",
      "text/plain": [
       "<matplotlib.figure.Figure at 0x1b990754128>"
      ]
     },
     "metadata": {},
     "output_type": "display_data"
    }
   ],
   "source": [
    "sns.factorplot(x=\"Race\", y=\"HealthScore\", data=acumen2)"
   ]
  },
  {
   "cell_type": "code",
   "execution_count": 141,
   "metadata": {},
   "outputs": [
    {
     "name": "stderr",
     "output_type": "stream",
     "text": [
      "D:\\MPA\\Anaconda\\lib\\site-packages\\seaborn\\categorical.py:462: FutureWarning: remove_na is deprecated and is a private function. Do not use.\n",
      "  box_data = remove_na(group_data)\n"
     ]
    },
    {
     "data": {
      "text/plain": [
       "<matplotlib.axes._subplots.AxesSubplot at 0x1b99055ab70>"
      ]
     },
     "execution_count": 141,
     "metadata": {},
     "output_type": "execute_result"
    },
    {
     "data": {
      "image/png": "[encoded data removed]",
      "text/plain": [
       "<matplotlib.figure.Figure at 0x1b98fd740f0>"
      ]
     },
     "metadata": {},
     "output_type": "display_data"
    }
   ],
   "source": [
    "sns.boxplot(x=\"Hospital Visit This Quarter (1=Yes)\", y=\"HealthScore\", data=acumen2)"
   ]
  },
  {
   "cell_type": "code",
   "execution_count": 142,
   "metadata": {},
   "outputs": [
    {
     "name": "stderr",
     "output_type": "stream",
     "text": [
      "D:\\MPA\\Anaconda\\lib\\site-packages\\seaborn\\categorical.py:1460: FutureWarning: remove_na is deprecated and is a private function. Do not use.\n",
      "  stat_data = remove_na(group_data)\n"
     ]
    },
    {
     "data": {
      "text/plain": [
       "<seaborn.axisgrid.FacetGrid at 0x1b990ae4978>"
      ]
     },
     "execution_count": 142,
     "metadata": {},
     "output_type": "execute_result"
    },
    {
     "data": {
      "image/png": "[encoded data removed]",
      "text/plain": [
       "<matplotlib.figure.Figure at 0x1b98f7e7940>"
      ]
     },
     "metadata": {},
     "output_type": "display_data"
    }
   ],
   "source": [
    "sns.factorplot(x=\"Hospital Visit This Quarter (1=Yes)\", y=\"HealthScore\", data=acumen2)"
   ]
  },
  {
   "cell_type": "code",
   "execution_count": 133,
   "metadata": {},
   "outputs": [
    {
     "data": {
      "text/plain": [
       "<matplotlib.axes._subplots.AxesSubplot at 0x1b99515be80>"
      ]
     },
     "execution_count": 133,
     "metadata": {},
     "output_type": "execute_result"
    },
    {
     "data": {
      "image/png": "[encoded data removed]",
      "text/plain": [
       "<matplotlib.figure.Figure at 0x1b990882278>"
      ]
     },
     "metadata": {},
     "output_type": "display_data"
    }
   ],
   "source": [
    "acumen2.plot.scatter('Age', 'HealthScore')"
   ]
  },
  {
   "cell_type": "code",
   "execution_count": 134,
   "metadata": {},
   "outputs": [
    {
     "data": {
      "text/plain": [
       "<matplotlib.axes._subplots.AxesSubplot at 0x1b990791b38>"
      ]
     },
     "execution_count": 134,
     "metadata": {},
     "output_type": "execute_result"
    },
    {
     "data": {
      "image/png": "[encoded data removed]",
      "text/plain": [
       "<matplotlib.figure.Figure at 0x1b990785128>"
      ]
     },
     "metadata": {},
     "output_type": "display_data"
    }
   ],
   "source": [
    "acumen2.plot.scatter('Salary', 'HealthScore')"
   ]
  },
  {
   "cell_type": "code",
   "execution_count": null,
   "metadata": {},
   "outputs": [],
   "source": []
  }
 ],
 "metadata": {
  "kernelspec": {
   "display_name": "Python 3",
   "language": "python",
   "name": "python3"
  },
  "language_info": {
   "codemirror_mode": {
    "name": "ipython",
    "version": 3
   },
   "file_extension": ".py",
   "mimetype": "text/x-python",
   "name": "python",
   "nbconvert_exporter": "python",
   "pygments_lexer": "ipython3",
   "version": "3.6.3"
  }
 },
 "nbformat": 4,
 "nbformat_minor": 2
}
